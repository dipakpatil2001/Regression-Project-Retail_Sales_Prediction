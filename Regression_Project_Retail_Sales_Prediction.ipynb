{
  "nbformat": 4,
  "nbformat_minor": 0,
  "metadata": {
    "colab": {
      "provenance": [],
      "collapsed_sections": [
        "PBTbrJXOngz2",
        "u3PMJOP6ngxN",
        "dauF4eBmngu3",
        "bKJF3rekwFvQ",
        "MSa1f5Uengrz",
        "GF8Ens_Soomf",
        "0wOQAZs5pc--",
        "K5QZ13OEpz2H",
        "lQ7QKXXCp7Bj",
        "448CDAPjqfQr",
        "KSlN3yHqYklG",
        "t6dVpIINYklI",
        "ijmpgYnKYklI",
        "-JiQyfWJYklI",
        "EM7whBJCYoAo",
        "fge-S5ZAYoAp",
        "85gYPyotYoAp",
        "RoGjAbkUYoAp",
        "4Of9eVA-YrdM",
        "iky9q4vBYrdO",
        "F6T5p64dYrdO",
        "y-Ehk30pYrdP",
        "bamQiAODYuh1",
        "QHF8YVU7Yuh3",
        "GwzvFGzlYuh3",
        "qYpmQ266Yuh3",
        "OH-pJp9IphqM",
        "bbFf2-_FphqN",
        "_ouA3fa0phqN",
        "Seke61FWphqN",
        "PIIx-8_IphqN",
        "t27r6nlMphqO",
        "r2jJGEOYphqO",
        "b0JNsNcRphqO",
        "BZR9WyysphqO",
        "jj7wYXLtphqO",
        "eZrbJ2SmphqO",
        "rFu4xreNphqO",
        "YJ55k-q6phqO",
        "gCFgpxoyphqP",
        "OVtJsKN_phqQ",
        "lssrdh5qphqQ",
        "U2RJ9gkRphqQ",
        "1M8mcRywphqQ",
        "tgIPom80phqQ",
        "JMzcOPDDphqR",
        "x-EpHcCOp1ci",
        "X_VqEhTip1ck",
        "8zGJKyg5p1ck",
        "PVzmfK_Ep1ck",
        "n3dbpmDWp1ck",
        "ylSl6qgtp1ck",
        "ZWILFDl5p1ck",
        "M7G43BXep1ck",
        "Ag9LCva-p1cl",
        "E6MkPsBcp1cl",
        "2cELzS2fp1cl",
        "3MPXvC8up1cl",
        "NC_X3p0fY2L0",
        "UV0SzAkaZNRQ",
        "YPEH6qLeZNRQ",
        "q29F0dvdveiT",
        "EXh0U9oCveiU",
        "22aHeOlLveiV",
        "g-ATYxFrGrvw",
        "Yfr_Vlr8HBkt",
        "8yEUt7NnHlrM",
        "tEA2Xm5dHt1r",
        "I79__PHVH19G",
        "Ou-I18pAyIpj",
        "fF3858GYyt-u",
        "4_0_7-oCpUZd",
        "hwyV_J3ipUZe",
        "3yB-zSqbpUZe",
        "dEUvejAfpUZe",
        "Fd15vwWVpUZf",
        "bn_IUdTipZyH",
        "49K5P_iCpZyH",
        "Nff-vKELpZyI",
        "kLW572S8pZyI",
        "dWbDXHzopZyI",
        "yLjJCtPM0KBk",
        "xiyOF9F70UgQ",
        "7wuGOrhz0itI",
        "id1riN9m0vUs",
        "578E2V7j08f6",
        "89xtkJwZ18nB",
        "67NQN5KX2AMe",
        "Iwf50b-R2tYG",
        "GMQiZwjn3iu7",
        "WVIkgGqN3qsr",
        "XkPnILGE3zoT",
        "Hlsf0x5436Go",
        "mT9DMSJo4nBL",
        "c49ITxTc407N",
        "OeJFEK0N496M",
        "9ExmJH0g5HBk",
        "cJNqERVU536h",
        "k5UmGsbsOxih",
        "T0VqWOYE6DLQ",
        "qBMux9mC6MCf",
        "-oLEiFgy-5Pf",
        "C74aWNz2AliB",
        "2DejudWSA-a0",
        "pEMng2IbBLp7",
        "rAdphbQ9Bhjc",
        "TNVZ9zx19K6k",
        "nqoHp30x9hH9",
        "rMDnDkt2B6du",
        "yiiVWRdJDDil",
        "1UUpS68QDMuG",
        "kexQrXU-DjzY",
        "T5CmagL3EC8N",
        "BhH2vgX9EjGr",
        "qjKvONjwE8ra",
        "P1XJ9OREExlT",
        "VFOzZv6IFROw",
        "TIqpNgepFxVj",
        "VfCC591jGiD4",
        "OB4l2ZhMeS1U",
        "ArJBuiUVfxKd",
        "4qY1EAkEfxKe",
        "PiV4Ypx8fxKe",
        "TfvqoZmBfxKf",
        "dJ2tPlVmpsJ0",
        "JWYfwnehpsJ1",
        "-jK_YjpMpsJ2",
        "HAih1iBOpsJ2",
        "zVGeBEFhpsJ2",
        "bmKjuQ-FpsJ3",
        "Fze-IPXLpx6K",
        "7AN1z2sKpx6M",
        "9PIHJqyupx6M",
        "_-qAgymDpx6N",
        "Z-hykwinpx6N",
        "h_CCil-SKHpo",
        "cBFFvTBNJzUa",
        "HvGl1hHyA_VK",
        "EyNgTHvd2WFk",
        "KH5McJBi2d8v",
        "iW_Lq9qf2h6X",
        "-Kee-DAl2viO",
        "gCX9965dhzqZ",
        "gIfDvo9L0UH2"
      ],
      "cell_execution_strategy": "setup",
      "include_colab_link": true
    },
    "kernelspec": {
      "name": "python3",
      "display_name": "Python 3"
    },
    "language_info": {
      "name": "python"
    }
  },
  "cells": [
    {
      "cell_type": "markdown",
      "metadata": {
        "id": "view-in-github",
        "colab_type": "text"
      },
      "source": [
        "<a href=\"https://colab.research.google.com/github/dipakpatil2001/Regression-Project-Retail_Sales_Prediction/blob/main/Regression_Project_Retail_Sales_Prediction.ipynb\" target=\"_parent\"><img src=\"https://colab.research.google.com/assets/colab-badge.svg\" alt=\"Open In Colab\"/></a>"
      ]
    },
    {
      "cell_type": "markdown",
      "source": [
        "![image.png](data:image/png;base64,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)"
      ],
      "metadata": {
        "id": "Uew5lPjLCwzJ"
      }
    },
    {
      "cell_type": "markdown",
      "source": [
        "## **Project Name**   - Retail Sales Prediction on Rossmann Store.\n",
        "\n"
      ],
      "metadata": {
        "id": "vncDsAP0Gaoa"
      }
    },
    {
      "cell_type": "markdown",
      "source": [
        "##### **Project Type**    - Regression\n",
        "##### **Contribution**    - Individual\n",
        "##### **Name**            - Dipak Balram Patil"
      ],
      "metadata": {
        "id": "beRrZCGUAJYm"
      }
    },
    {
      "cell_type": "markdown",
      "source": [
        "# **Project Summary -**"
      ],
      "metadata": {
        "id": "FJNUwmbgGyua"
      }
    },
    {
      "cell_type": "markdown",
      "source": [
        "To build a sales price prediction model for Rossmann Stores, we will undertake the following steps:\n",
        "1. Data Integration:\n",
        "\n",
        " Combine the Rossmann Stores Data with the Store Data to create a comprehensive dataset that includes store attributes along with sales data.\n",
        "2. Data Cleaning:\n",
        "\n",
        " Handle missing values in the Store Data, either by imputation or removal, depending on the nature of the data.\n",
        " Ensure data types are appropriate for each feature, converting dates and categoricals as needed.\n",
        "3. Feature Engineering:\n",
        "\n",
        "  Derive new features that may have predictive power, such as time since competition opened, time since a store was remodeled, and indicators for promotions.\n",
        "Encode categorical variables using one-hot encoding or label encoding.\n",
        "4. Exploratory Data Analysis (EDA)\n",
        ":\n",
        "\n",
        " Analyze sales trends over time to understand seasonality and other patterns.\n",
        "Investigate the relationship between sales and other variables, such as promotions, store type, and competition.\n",
        "5. Model Selection\n",
        ":\n",
        "\n",
        " Choose appropriate machine learning models for regression, such as linear regression, random forest, or gradient boosting machines.\n",
        "Consider time series models if the temporal aspect is significant.\n",
        "6. Model Training and Validation\n",
        ":\n",
        "\n",
        "  Split the data into training and validation sets to evaluate model performance.\n",
        "Use cross-validation to ensure the model's robustness.\n",
        "7. Model Optimization\n",
        ":\n",
        "\n",
        " Tune hyperparameters to improve model performance.\n",
        "Feature selection to identify the most important predictors.\n",
        "8. Model Evaluation:\n",
        "\n",
        " Assess the model using appropriate metrics, such as RMSE (Root Mean Square Error) for continuous sales predictions.\n",
        "\n",
        "Each step will be executed with careful consideration of the data's characteristics and the business context of Rossmann Stores. The goal is to create a reliable and accurate model that can inform decision-making and strategy for the company's sales initiatives.\n"
      ],
      "metadata": {
        "id": "F6v_1wHtG2nS"
      }
    },
    {
      "cell_type": "markdown",
      "source": [
        "# **GitHub Link -**"
      ],
      "metadata": {
        "id": "w6K7xa23Elo4"
      }
    },
    {
      "cell_type": "markdown",
      "source": [
        "Provide your GitHub Link here. https://github.com/dipakpatil2001/Regression-Project-Retail_Sales_Prediction"
      ],
      "metadata": {
        "id": "h1o69JH3Eqqn"
      }
    },
    {
      "cell_type": "markdown",
      "source": [
        "# **Problem Statement**\n"
      ],
      "metadata": {
        "id": "yQaldy8SH6Dl"
      }
    },
    {
      "cell_type": "markdown",
      "source": [
        "To develope the Machine Learning Regression Model to predicts the daily sales for up to six weeks in advance for 1115 Rossmann Stores across Europe. The model should take into account various factors that influence the sales such as promotions, competition, holidays, seasonality, locality, etc.\n",
        "\n",
        "Our goal is to help Rossmann Store management make informed sales prediction so that they can manage various factors such as inventory management, staffinan g, and promotional strategies which will ultimately lead to increase in sales and profitability for the business."
      ],
      "metadata": {
        "id": "DpeJGUA3kjGy"
      }
    },
    {
      "cell_type": "markdown",
      "source": [
        "# **General Guidelines** : -  "
      ],
      "metadata": {
        "id": "mDgbUHAGgjLW"
      }
    },
    {
      "cell_type": "markdown",
      "source": [
        "1.   Well-structured, formatted, and commented code is required.\n",
        "2.   Exception Handling, Production Grade Code & Deployment Ready Code will be a plus. Those students will be awarded some additional credits.\n",
        "     \n",
        "     The additional credits will have advantages over other students during Star Student selection.\n",
        "       \n",
        "             [ Note: - Deployment Ready Code is defined as, the whole .ipynb notebook should be executable in one go\n",
        "                       without a single error logged. ]\n",
        "\n",
        "3.   Each and every logic should have proper comments.\n",
        "4. You may add as many number of charts you want. Make Sure for each and every chart the following format should be answered.\n",
        "        \n",
        "\n",
        "```\n",
        "# Chart visualization code\n",
        "```\n",
        "            \n",
        "\n",
        "*   Why did you pick the specific chart?\n",
        "*   What is/are the insight(s) found from the chart?\n",
        "* Will the gained insights help creating a positive business impact?\n",
        "Are there any insights that lead to negative growth? Justify with specific reason.\n",
        "\n",
        "5. You have to create at least 15 logical & meaningful charts having important insights.\n",
        "\n",
        "\n",
        "[ Hints : - Do the Vizualization in  a structured way while following \"UBM\" Rule.\n",
        "\n",
        "U - Univariate Analysis,\n",
        "\n",
        "B - Bivariate Analysis (Numerical - Categorical, Numerical - Numerical, Categorical - Categorical)\n",
        "\n",
        "M - Multivariate Analysis\n",
        " ]\n",
        "\n",
        "\n",
        "\n",
        "\n",
        "\n",
        "6. You may add more ml algorithms for model creation. Make sure for each and every algorithm, the following format should be answered.\n",
        "\n",
        "\n",
        "*   Explain the ML Model used and it's performance using Evaluation metric Score Chart.\n",
        "\n",
        "\n",
        "*   Cross- Validation & Hyperparameter Tuning\n",
        "\n",
        "*   Have you seen any improvement? Note down the improvement with updates Evaluation metric Score Chart.\n",
        "\n",
        "*   Explain each evaluation metric's indication towards business and the business impact pf the ML model used.\n",
        "\n",
        "\n",
        "\n",
        "\n",
        "\n",
        "\n",
        "\n",
        "\n",
        "\n",
        "\n",
        "\n",
        "\n",
        "\n",
        "\n",
        "\n",
        "\n",
        "\n",
        "\n"
      ],
      "metadata": {
        "id": "ZrxVaUj-hHfC"
      }
    },
    {
      "cell_type": "markdown",
      "source": [
        "# ***Let's Begin !***"
      ],
      "metadata": {
        "id": "O_i_v8NEhb9l"
      }
    },
    {
      "cell_type": "markdown",
      "source": [
        "## ***1. Know Your Data***"
      ],
      "metadata": {
        "id": "HhfV-JJviCcP"
      }
    },
    {
      "cell_type": "markdown",
      "source": [
        "There have been given two datasets:\n",
        "1. Rossmann Store Data.CSV\n",
        "2. Store.CSV\n",
        "\n",
        "![image.png](data:image/png;base64,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)"
      ],
      "metadata": {
        "id": "HMqST7wS-Wko"
      }
    },
    {
      "cell_type": "markdown",
      "source": [
        "### Import Libraries"
      ],
      "metadata": {
        "id": "Y3lxredqlCYt"
      }
    },
    {
      "cell_type": "code",
      "source": [
        "# Import Libraries\n",
        "import numpy as np\n",
        "import pandas as pd\n",
        "from datetime import datetime as dt\n",
        "\n",
        "# To display all the columns in Dataframe\n",
        "pd.set_option('display.max_columns', None)\n",
        "\n",
        "# Import Data Visualisation Libraries\n",
        "import matplotlib.pyplot as plt\n",
        "%matplotlib inline\n",
        "import seaborn as sns\n",
        "import plotly as pl\n",
        "import plotly.express as px\n",
        "from plotly.subplots import make_subplots\n",
        "import plotly.graph_objects as go\n",
        "\n",
        "# Set the plot style and display options\n",
        "plt.style.use('ggplot')\n",
        "sns.set()\n",
        "\n",
        "# Machine Learning\n",
        "from sklearn.model_selection import train_test_split\n",
        "from sklearn.preprocessing import PowerTransformer\n",
        "from sklearn.preprocessing import OneHotEncoder\n",
        "from sklearn.model_selection import GridSearchCV\n",
        "from sklearn.model_selection import RandomizedSearchCV\n",
        "from sklearn import ensemble\n",
        "\n",
        "# Import and Ignore warnings for better code readability,\n",
        "import warnings\n",
        "warnings.filterwarnings('ignore')"
      ],
      "metadata": {
        "id": "M8Vqi-pPk-HR"
      },
      "execution_count": 1,
      "outputs": []
    },
    {
      "cell_type": "code",
      "source": [
        "from google.colab import drive\n",
        "drive.mount('/content/drive')"
      ],
      "metadata": {
        "colab": {
          "base_uri": "https://localhost:8080/"
        },
        "id": "ttcyqyEY7w3Y",
        "outputId": "0bc27a3d-0a18-417e-88fb-07ad4d01800a"
      },
      "execution_count": 2,
      "outputs": [
        {
          "output_type": "stream",
          "name": "stdout",
          "text": [
            "Mounted at /content/drive\n"
          ]
        }
      ]
    },
    {
      "cell_type": "markdown",
      "source": [
        "### Dataset Loading"
      ],
      "metadata": {
        "id": "3RnN4peoiCZX"
      }
    },
    {
      "cell_type": "code",
      "source": [
        "# Load the Rossmann Stores Data\n",
        "rossmann_data = pd.read_csv('/content/drive/MyDrive/CD/Data science /Projects and all/Rossmann Stores Data.csv')\n",
        "# Load the Store Data\n",
        "store_data = pd.read_csv('/content/drive/MyDrive/CD/Data science /Projects and all/store.csv')"
      ],
      "metadata": {
        "id": "4CkvbW_SlZ_R"
      },
      "execution_count": 5,
      "outputs": []
    },
    {
      "cell_type": "markdown",
      "source": [
        "### Dataset First View"
      ],
      "metadata": {
        "id": "x71ZqKXriCWQ"
      }
    },
    {
      "cell_type": "code",
      "source": [
        "# Dataset First Look\n",
        "rossmann_data.head(3)    #Rossmann Stores Data first 3 rows"
      ],
      "metadata": {
        "id": "LWNFOSvLl09H",
        "colab": {
          "base_uri": "https://localhost:8080/",
          "height": 143
        },
        "outputId": "e000f507-3be2-4901-b832-c2bfac680658"
      },
      "execution_count": 20,
      "outputs": [
        {
          "output_type": "execute_result",
          "data": {
            "text/plain": [
              "   Store  DayOfWeek        Date  Sales  Customers  Open  Promo StateHoliday  \\\n",
              "0      1          5  2015-07-31   5263        555     1      1            0   \n",
              "1      2          5  2015-07-31   6064        625     1      1            0   \n",
              "2      3          5  2015-07-31   8314        821     1      1            0   \n",
              "\n",
              "   SchoolHoliday  \n",
              "0              1  \n",
              "1              1  \n",
              "2              1  "
            ],
            "text/html": [
              "\n",
              "  <div id=\"df-0dc733b7-da1a-440f-aeb3-a8c3df7d55b1\" class=\"colab-df-container\">\n",
              "    <div>\n",
              "<style scoped>\n",
              "    .dataframe tbody tr th:only-of-type {\n",
              "        vertical-align: middle;\n",
              "    }\n",
              "\n",
              "    .dataframe tbody tr th {\n",
              "        vertical-align: top;\n",
              "    }\n",
              "\n",
              "    .dataframe thead th {\n",
              "        text-align: right;\n",
              "    }\n",
              "</style>\n",
              "<table border=\"1\" class=\"dataframe\">\n",
              "  <thead>\n",
              "    <tr style=\"text-align: right;\">\n",
              "      <th></th>\n",
              "      <th>Store</th>\n",
              "      <th>DayOfWeek</th>\n",
              "      <th>Date</th>\n",
              "      <th>Sales</th>\n",
              "      <th>Customers</th>\n",
              "      <th>Open</th>\n",
              "      <th>Promo</th>\n",
              "      <th>StateHoliday</th>\n",
              "      <th>SchoolHoliday</th>\n",
              "    </tr>\n",
              "  </thead>\n",
              "  <tbody>\n",
              "    <tr>\n",
              "      <th>0</th>\n",
              "      <td>1</td>\n",
              "      <td>5</td>\n",
              "      <td>2015-07-31</td>\n",
              "      <td>5263</td>\n",
              "      <td>555</td>\n",
              "      <td>1</td>\n",
              "      <td>1</td>\n",
              "      <td>0</td>\n",
              "      <td>1</td>\n",
              "    </tr>\n",
              "    <tr>\n",
              "      <th>1</th>\n",
              "      <td>2</td>\n",
              "      <td>5</td>\n",
              "      <td>2015-07-31</td>\n",
              "      <td>6064</td>\n",
              "      <td>625</td>\n",
              "      <td>1</td>\n",
              "      <td>1</td>\n",
              "      <td>0</td>\n",
              "      <td>1</td>\n",
              "    </tr>\n",
              "    <tr>\n",
              "      <th>2</th>\n",
              "      <td>3</td>\n",
              "      <td>5</td>\n",
              "      <td>2015-07-31</td>\n",
              "      <td>8314</td>\n",
              "      <td>821</td>\n",
              "      <td>1</td>\n",
              "      <td>1</td>\n",
              "      <td>0</td>\n",
              "      <td>1</td>\n",
              "    </tr>\n",
              "  </tbody>\n",
              "</table>\n",
              "</div>\n",
              "    <div class=\"colab-df-buttons\">\n",
              "\n",
              "  <div class=\"colab-df-container\">\n",
              "    <button class=\"colab-df-convert\" onclick=\"convertToInteractive('df-0dc733b7-da1a-440f-aeb3-a8c3df7d55b1')\"\n",
              "            title=\"Convert this dataframe to an interactive table.\"\n",
              "            style=\"display:none;\">\n",
              "\n",
              "  <svg xmlns=\"http://www.w3.org/2000/svg\" height=\"24px\" viewBox=\"0 -960 960 960\">\n",
              "    <path d=\"M120-120v-720h720v720H120Zm60-500h600v-160H180v160Zm220 220h160v-160H400v160Zm0 220h160v-160H400v160ZM180-400h160v-160H180v160Zm440 0h160v-160H620v160ZM180-180h160v-160H180v160Zm440 0h160v-160H620v160Z\"/>\n",
              "  </svg>\n",
              "    </button>\n",
              "\n",
              "  <style>\n",
              "    .colab-df-container {\n",
              "      display:flex;\n",
              "      gap: 12px;\n",
              "    }\n",
              "\n",
              "    .colab-df-convert {\n",
              "      background-color: #E8F0FE;\n",
              "      border: none;\n",
              "      border-radius: 50%;\n",
              "      cursor: pointer;\n",
              "      display: none;\n",
              "      fill: #1967D2;\n",
              "      height: 32px;\n",
              "      padding: 0 0 0 0;\n",
              "      width: 32px;\n",
              "    }\n",
              "\n",
              "    .colab-df-convert:hover {\n",
              "      background-color: #E2EBFA;\n",
              "      box-shadow: 0px 1px 2px rgba(60, 64, 67, 0.3), 0px 1px 3px 1px rgba(60, 64, 67, 0.15);\n",
              "      fill: #174EA6;\n",
              "    }\n",
              "\n",
              "    .colab-df-buttons div {\n",
              "      margin-bottom: 4px;\n",
              "    }\n",
              "\n",
              "    [theme=dark] .colab-df-convert {\n",
              "      background-color: #3B4455;\n",
              "      fill: #D2E3FC;\n",
              "    }\n",
              "\n",
              "    [theme=dark] .colab-df-convert:hover {\n",
              "      background-color: #434B5C;\n",
              "      box-shadow: 0px 1px 3px 1px rgba(0, 0, 0, 0.15);\n",
              "      filter: drop-shadow(0px 1px 2px rgba(0, 0, 0, 0.3));\n",
              "      fill: #FFFFFF;\n",
              "    }\n",
              "  </style>\n",
              "\n",
              "    <script>\n",
              "      const buttonEl =\n",
              "        document.querySelector('#df-0dc733b7-da1a-440f-aeb3-a8c3df7d55b1 button.colab-df-convert');\n",
              "      buttonEl.style.display =\n",
              "        google.colab.kernel.accessAllowed ? 'block' : 'none';\n",
              "\n",
              "      async function convertToInteractive(key) {\n",
              "        const element = document.querySelector('#df-0dc733b7-da1a-440f-aeb3-a8c3df7d55b1');\n",
              "        const dataTable =\n",
              "          await google.colab.kernel.invokeFunction('convertToInteractive',\n",
              "                                                    [key], {});\n",
              "        if (!dataTable) return;\n",
              "\n",
              "        const docLinkHtml = 'Like what you see? Visit the ' +\n",
              "          '<a target=\"_blank\" href=https://colab.research.google.com/notebooks/data_table.ipynb>data table notebook</a>'\n",
              "          + ' to learn more about interactive tables.';\n",
              "        element.innerHTML = '';\n",
              "        dataTable['output_type'] = 'display_data';\n",
              "        await google.colab.output.renderOutput(dataTable, element);\n",
              "        const docLink = document.createElement('div');\n",
              "        docLink.innerHTML = docLinkHtml;\n",
              "        element.appendChild(docLink);\n",
              "      }\n",
              "    </script>\n",
              "  </div>\n",
              "\n",
              "\n",
              "<div id=\"df-bc964eb4-bef4-491c-87c8-5195ac9d5b59\">\n",
              "  <button class=\"colab-df-quickchart\" onclick=\"quickchart('df-bc964eb4-bef4-491c-87c8-5195ac9d5b59')\"\n",
              "            title=\"Suggest charts\"\n",
              "            style=\"display:none;\">\n",
              "\n",
              "<svg xmlns=\"http://www.w3.org/2000/svg\" height=\"24px\"viewBox=\"0 0 24 24\"\n",
              "     width=\"24px\">\n",
              "    <g>\n",
              "        <path d=\"M19 3H5c-1.1 0-2 .9-2 2v14c0 1.1.9 2 2 2h14c1.1 0 2-.9 2-2V5c0-1.1-.9-2-2-2zM9 17H7v-7h2v7zm4 0h-2V7h2v10zm4 0h-2v-4h2v4z\"/>\n",
              "    </g>\n",
              "</svg>\n",
              "  </button>\n",
              "\n",
              "<style>\n",
              "  .colab-df-quickchart {\n",
              "      --bg-color: #E8F0FE;\n",
              "      --fill-color: #1967D2;\n",
              "      --hover-bg-color: #E2EBFA;\n",
              "      --hover-fill-color: #174EA6;\n",
              "      --disabled-fill-color: #AAA;\n",
              "      --disabled-bg-color: #DDD;\n",
              "  }\n",
              "\n",
              "  [theme=dark] .colab-df-quickchart {\n",
              "      --bg-color: #3B4455;\n",
              "      --fill-color: #D2E3FC;\n",
              "      --hover-bg-color: #434B5C;\n",
              "      --hover-fill-color: #FFFFFF;\n",
              "      --disabled-bg-color: #3B4455;\n",
              "      --disabled-fill-color: #666;\n",
              "  }\n",
              "\n",
              "  .colab-df-quickchart {\n",
              "    background-color: var(--bg-color);\n",
              "    border: none;\n",
              "    border-radius: 50%;\n",
              "    cursor: pointer;\n",
              "    display: none;\n",
              "    fill: var(--fill-color);\n",
              "    height: 32px;\n",
              "    padding: 0;\n",
              "    width: 32px;\n",
              "  }\n",
              "\n",
              "  .colab-df-quickchart:hover {\n",
              "    background-color: var(--hover-bg-color);\n",
              "    box-shadow: 0 1px 2px rgba(60, 64, 67, 0.3), 0 1px 3px 1px rgba(60, 64, 67, 0.15);\n",
              "    fill: var(--button-hover-fill-color);\n",
              "  }\n",
              "\n",
              "  .colab-df-quickchart-complete:disabled,\n",
              "  .colab-df-quickchart-complete:disabled:hover {\n",
              "    background-color: var(--disabled-bg-color);\n",
              "    fill: var(--disabled-fill-color);\n",
              "    box-shadow: none;\n",
              "  }\n",
              "\n",
              "  .colab-df-spinner {\n",
              "    border: 2px solid var(--fill-color);\n",
              "    border-color: transparent;\n",
              "    border-bottom-color: var(--fill-color);\n",
              "    animation:\n",
              "      spin 1s steps(1) infinite;\n",
              "  }\n",
              "\n",
              "  @keyframes spin {\n",
              "    0% {\n",
              "      border-color: transparent;\n",
              "      border-bottom-color: var(--fill-color);\n",
              "      border-left-color: var(--fill-color);\n",
              "    }\n",
              "    20% {\n",
              "      border-color: transparent;\n",
              "      border-left-color: var(--fill-color);\n",
              "      border-top-color: var(--fill-color);\n",
              "    }\n",
              "    30% {\n",
              "      border-color: transparent;\n",
              "      border-left-color: var(--fill-color);\n",
              "      border-top-color: var(--fill-color);\n",
              "      border-right-color: var(--fill-color);\n",
              "    }\n",
              "    40% {\n",
              "      border-color: transparent;\n",
              "      border-right-color: var(--fill-color);\n",
              "      border-top-color: var(--fill-color);\n",
              "    }\n",
              "    60% {\n",
              "      border-color: transparent;\n",
              "      border-right-color: var(--fill-color);\n",
              "    }\n",
              "    80% {\n",
              "      border-color: transparent;\n",
              "      border-right-color: var(--fill-color);\n",
              "      border-bottom-color: var(--fill-color);\n",
              "    }\n",
              "    90% {\n",
              "      border-color: transparent;\n",
              "      border-bottom-color: var(--fill-color);\n",
              "    }\n",
              "  }\n",
              "</style>\n",
              "\n",
              "  <script>\n",
              "    async function quickchart(key) {\n",
              "      const quickchartButtonEl =\n",
              "        document.querySelector('#' + key + ' button');\n",
              "      quickchartButtonEl.disabled = true;  // To prevent multiple clicks.\n",
              "      quickchartButtonEl.classList.add('colab-df-spinner');\n",
              "      try {\n",
              "        const charts = await google.colab.kernel.invokeFunction(\n",
              "            'suggestCharts', [key], {});\n",
              "      } catch (error) {\n",
              "        console.error('Error during call to suggestCharts:', error);\n",
              "      }\n",
              "      quickchartButtonEl.classList.remove('colab-df-spinner');\n",
              "      quickchartButtonEl.classList.add('colab-df-quickchart-complete');\n",
              "    }\n",
              "    (() => {\n",
              "      let quickchartButtonEl =\n",
              "        document.querySelector('#df-bc964eb4-bef4-491c-87c8-5195ac9d5b59 button');\n",
              "      quickchartButtonEl.style.display =\n",
              "        google.colab.kernel.accessAllowed ? 'block' : 'none';\n",
              "    })();\n",
              "  </script>\n",
              "</div>\n",
              "    </div>\n",
              "  </div>\n"
            ]
          },
          "metadata": {},
          "execution_count": 20
        }
      ]
    },
    {
      "cell_type": "code",
      "source": [
        "rossmann_data.tail(3)    #Rossmann Stores Data last 3 rows"
      ],
      "metadata": {
        "colab": {
          "base_uri": "https://localhost:8080/",
          "height": 143
        },
        "id": "Vqy1-1bNAS-6",
        "outputId": "ef1cb1f2-83c4-4cb9-885d-b6c15336b73a"
      },
      "execution_count": 21,
      "outputs": [
        {
          "output_type": "execute_result",
          "data": {
            "text/plain": [
              "         Store  DayOfWeek        Date  Sales  Customers  Open  Promo  \\\n",
              "1017206   1113          2  2013-01-01      0          0     0      0   \n",
              "1017207   1114          2  2013-01-01      0          0     0      0   \n",
              "1017208   1115          2  2013-01-01      0          0     0      0   \n",
              "\n",
              "        StateHoliday  SchoolHoliday  \n",
              "1017206            a              1  \n",
              "1017207            a              1  \n",
              "1017208            a              1  "
            ],
            "text/html": [
              "\n",
              "  <div id=\"df-b56a0ec6-065d-41a4-9602-643e52fe6d84\" class=\"colab-df-container\">\n",
              "    <div>\n",
              "<style scoped>\n",
              "    .dataframe tbody tr th:only-of-type {\n",
              "        vertical-align: middle;\n",
              "    }\n",
              "\n",
              "    .dataframe tbody tr th {\n",
              "        vertical-align: top;\n",
              "    }\n",
              "\n",
              "    .dataframe thead th {\n",
              "        text-align: right;\n",
              "    }\n",
              "</style>\n",
              "<table border=\"1\" class=\"dataframe\">\n",
              "  <thead>\n",
              "    <tr style=\"text-align: right;\">\n",
              "      <th></th>\n",
              "      <th>Store</th>\n",
              "      <th>DayOfWeek</th>\n",
              "      <th>Date</th>\n",
              "      <th>Sales</th>\n",
              "      <th>Customers</th>\n",
              "      <th>Open</th>\n",
              "      <th>Promo</th>\n",
              "      <th>StateHoliday</th>\n",
              "      <th>SchoolHoliday</th>\n",
              "    </tr>\n",
              "  </thead>\n",
              "  <tbody>\n",
              "    <tr>\n",
              "      <th>1017206</th>\n",
              "      <td>1113</td>\n",
              "      <td>2</td>\n",
              "      <td>2013-01-01</td>\n",
              "      <td>0</td>\n",
              "      <td>0</td>\n",
              "      <td>0</td>\n",
              "      <td>0</td>\n",
              "      <td>a</td>\n",
              "      <td>1</td>\n",
              "    </tr>\n",
              "    <tr>\n",
              "      <th>1017207</th>\n",
              "      <td>1114</td>\n",
              "      <td>2</td>\n",
              "      <td>2013-01-01</td>\n",
              "      <td>0</td>\n",
              "      <td>0</td>\n",
              "      <td>0</td>\n",
              "      <td>0</td>\n",
              "      <td>a</td>\n",
              "      <td>1</td>\n",
              "    </tr>\n",
              "    <tr>\n",
              "      <th>1017208</th>\n",
              "      <td>1115</td>\n",
              "      <td>2</td>\n",
              "      <td>2013-01-01</td>\n",
              "      <td>0</td>\n",
              "      <td>0</td>\n",
              "      <td>0</td>\n",
              "      <td>0</td>\n",
              "      <td>a</td>\n",
              "      <td>1</td>\n",
              "    </tr>\n",
              "  </tbody>\n",
              "</table>\n",
              "</div>\n",
              "    <div class=\"colab-df-buttons\">\n",
              "\n",
              "  <div class=\"colab-df-container\">\n",
              "    <button class=\"colab-df-convert\" onclick=\"convertToInteractive('df-b56a0ec6-065d-41a4-9602-643e52fe6d84')\"\n",
              "            title=\"Convert this dataframe to an interactive table.\"\n",
              "            style=\"display:none;\">\n",
              "\n",
              "  <svg xmlns=\"http://www.w3.org/2000/svg\" height=\"24px\" viewBox=\"0 -960 960 960\">\n",
              "    <path d=\"M120-120v-720h720v720H120Zm60-500h600v-160H180v160Zm220 220h160v-160H400v160Zm0 220h160v-160H400v160ZM180-400h160v-160H180v160Zm440 0h160v-160H620v160ZM180-180h160v-160H180v160Zm440 0h160v-160H620v160Z\"/>\n",
              "  </svg>\n",
              "    </button>\n",
              "\n",
              "  <style>\n",
              "    .colab-df-container {\n",
              "      display:flex;\n",
              "      gap: 12px;\n",
              "    }\n",
              "\n",
              "    .colab-df-convert {\n",
              "      background-color: #E8F0FE;\n",
              "      border: none;\n",
              "      border-radius: 50%;\n",
              "      cursor: pointer;\n",
              "      display: none;\n",
              "      fill: #1967D2;\n",
              "      height: 32px;\n",
              "      padding: 0 0 0 0;\n",
              "      width: 32px;\n",
              "    }\n",
              "\n",
              "    .colab-df-convert:hover {\n",
              "      background-color: #E2EBFA;\n",
              "      box-shadow: 0px 1px 2px rgba(60, 64, 67, 0.3), 0px 1px 3px 1px rgba(60, 64, 67, 0.15);\n",
              "      fill: #174EA6;\n",
              "    }\n",
              "\n",
              "    .colab-df-buttons div {\n",
              "      margin-bottom: 4px;\n",
              "    }\n",
              "\n",
              "    [theme=dark] .colab-df-convert {\n",
              "      background-color: #3B4455;\n",
              "      fill: #D2E3FC;\n",
              "    }\n",
              "\n",
              "    [theme=dark] .colab-df-convert:hover {\n",
              "      background-color: #434B5C;\n",
              "      box-shadow: 0px 1px 3px 1px rgba(0, 0, 0, 0.15);\n",
              "      filter: drop-shadow(0px 1px 2px rgba(0, 0, 0, 0.3));\n",
              "      fill: #FFFFFF;\n",
              "    }\n",
              "  </style>\n",
              "\n",
              "    <script>\n",
              "      const buttonEl =\n",
              "        document.querySelector('#df-b56a0ec6-065d-41a4-9602-643e52fe6d84 button.colab-df-convert');\n",
              "      buttonEl.style.display =\n",
              "        google.colab.kernel.accessAllowed ? 'block' : 'none';\n",
              "\n",
              "      async function convertToInteractive(key) {\n",
              "        const element = document.querySelector('#df-b56a0ec6-065d-41a4-9602-643e52fe6d84');\n",
              "        const dataTable =\n",
              "          await google.colab.kernel.invokeFunction('convertToInteractive',\n",
              "                                                    [key], {});\n",
              "        if (!dataTable) return;\n",
              "\n",
              "        const docLinkHtml = 'Like what you see? Visit the ' +\n",
              "          '<a target=\"_blank\" href=https://colab.research.google.com/notebooks/data_table.ipynb>data table notebook</a>'\n",
              "          + ' to learn more about interactive tables.';\n",
              "        element.innerHTML = '';\n",
              "        dataTable['output_type'] = 'display_data';\n",
              "        await google.colab.output.renderOutput(dataTable, element);\n",
              "        const docLink = document.createElement('div');\n",
              "        docLink.innerHTML = docLinkHtml;\n",
              "        element.appendChild(docLink);\n",
              "      }\n",
              "    </script>\n",
              "  </div>\n",
              "\n",
              "\n",
              "<div id=\"df-d0edcbf0-fa80-4264-8d1b-b6fb4c89232a\">\n",
              "  <button class=\"colab-df-quickchart\" onclick=\"quickchart('df-d0edcbf0-fa80-4264-8d1b-b6fb4c89232a')\"\n",
              "            title=\"Suggest charts\"\n",
              "            style=\"display:none;\">\n",
              "\n",
              "<svg xmlns=\"http://www.w3.org/2000/svg\" height=\"24px\"viewBox=\"0 0 24 24\"\n",
              "     width=\"24px\">\n",
              "    <g>\n",
              "        <path d=\"M19 3H5c-1.1 0-2 .9-2 2v14c0 1.1.9 2 2 2h14c1.1 0 2-.9 2-2V5c0-1.1-.9-2-2-2zM9 17H7v-7h2v7zm4 0h-2V7h2v10zm4 0h-2v-4h2v4z\"/>\n",
              "    </g>\n",
              "</svg>\n",
              "  </button>\n",
              "\n",
              "<style>\n",
              "  .colab-df-quickchart {\n",
              "      --bg-color: #E8F0FE;\n",
              "      --fill-color: #1967D2;\n",
              "      --hover-bg-color: #E2EBFA;\n",
              "      --hover-fill-color: #174EA6;\n",
              "      --disabled-fill-color: #AAA;\n",
              "      --disabled-bg-color: #DDD;\n",
              "  }\n",
              "\n",
              "  [theme=dark] .colab-df-quickchart {\n",
              "      --bg-color: #3B4455;\n",
              "      --fill-color: #D2E3FC;\n",
              "      --hover-bg-color: #434B5C;\n",
              "      --hover-fill-color: #FFFFFF;\n",
              "      --disabled-bg-color: #3B4455;\n",
              "      --disabled-fill-color: #666;\n",
              "  }\n",
              "\n",
              "  .colab-df-quickchart {\n",
              "    background-color: var(--bg-color);\n",
              "    border: none;\n",
              "    border-radius: 50%;\n",
              "    cursor: pointer;\n",
              "    display: none;\n",
              "    fill: var(--fill-color);\n",
              "    height: 32px;\n",
              "    padding: 0;\n",
              "    width: 32px;\n",
              "  }\n",
              "\n",
              "  .colab-df-quickchart:hover {\n",
              "    background-color: var(--hover-bg-color);\n",
              "    box-shadow: 0 1px 2px rgba(60, 64, 67, 0.3), 0 1px 3px 1px rgba(60, 64, 67, 0.15);\n",
              "    fill: var(--button-hover-fill-color);\n",
              "  }\n",
              "\n",
              "  .colab-df-quickchart-complete:disabled,\n",
              "  .colab-df-quickchart-complete:disabled:hover {\n",
              "    background-color: var(--disabled-bg-color);\n",
              "    fill: var(--disabled-fill-color);\n",
              "    box-shadow: none;\n",
              "  }\n",
              "\n",
              "  .colab-df-spinner {\n",
              "    border: 2px solid var(--fill-color);\n",
              "    border-color: transparent;\n",
              "    border-bottom-color: var(--fill-color);\n",
              "    animation:\n",
              "      spin 1s steps(1) infinite;\n",
              "  }\n",
              "\n",
              "  @keyframes spin {\n",
              "    0% {\n",
              "      border-color: transparent;\n",
              "      border-bottom-color: var(--fill-color);\n",
              "      border-left-color: var(--fill-color);\n",
              "    }\n",
              "    20% {\n",
              "      border-color: transparent;\n",
              "      border-left-color: var(--fill-color);\n",
              "      border-top-color: var(--fill-color);\n",
              "    }\n",
              "    30% {\n",
              "      border-color: transparent;\n",
              "      border-left-color: var(--fill-color);\n",
              "      border-top-color: var(--fill-color);\n",
              "      border-right-color: var(--fill-color);\n",
              "    }\n",
              "    40% {\n",
              "      border-color: transparent;\n",
              "      border-right-color: var(--fill-color);\n",
              "      border-top-color: var(--fill-color);\n",
              "    }\n",
              "    60% {\n",
              "      border-color: transparent;\n",
              "      border-right-color: var(--fill-color);\n",
              "    }\n",
              "    80% {\n",
              "      border-color: transparent;\n",
              "      border-right-color: var(--fill-color);\n",
              "      border-bottom-color: var(--fill-color);\n",
              "    }\n",
              "    90% {\n",
              "      border-color: transparent;\n",
              "      border-bottom-color: var(--fill-color);\n",
              "    }\n",
              "  }\n",
              "</style>\n",
              "\n",
              "  <script>\n",
              "    async function quickchart(key) {\n",
              "      const quickchartButtonEl =\n",
              "        document.querySelector('#' + key + ' button');\n",
              "      quickchartButtonEl.disabled = true;  // To prevent multiple clicks.\n",
              "      quickchartButtonEl.classList.add('colab-df-spinner');\n",
              "      try {\n",
              "        const charts = await google.colab.kernel.invokeFunction(\n",
              "            'suggestCharts', [key], {});\n",
              "      } catch (error) {\n",
              "        console.error('Error during call to suggestCharts:', error);\n",
              "      }\n",
              "      quickchartButtonEl.classList.remove('colab-df-spinner');\n",
              "      quickchartButtonEl.classList.add('colab-df-quickchart-complete');\n",
              "    }\n",
              "    (() => {\n",
              "      let quickchartButtonEl =\n",
              "        document.querySelector('#df-d0edcbf0-fa80-4264-8d1b-b6fb4c89232a button');\n",
              "      quickchartButtonEl.style.display =\n",
              "        google.colab.kernel.accessAllowed ? 'block' : 'none';\n",
              "    })();\n",
              "  </script>\n",
              "</div>\n",
              "    </div>\n",
              "  </div>\n"
            ]
          },
          "metadata": {},
          "execution_count": 21
        }
      ]
    },
    {
      "cell_type": "code",
      "source": [
        "store_data.head(3)    #Store Data first 3 rows"
      ],
      "metadata": {
        "colab": {
          "base_uri": "https://localhost:8080/",
          "height": 143
        },
        "id": "9euxd-1eAStz",
        "outputId": "5c592a9c-2a9e-4ae0-ac04-b2bc41322b4a"
      },
      "execution_count": 22,
      "outputs": [
        {
          "output_type": "execute_result",
          "data": {
            "text/plain": [
              "   Store StoreType Assortment  CompetitionDistance  CompetitionOpenSinceMonth  \\\n",
              "0      1         c          a               1270.0                        9.0   \n",
              "1      2         a          a                570.0                       11.0   \n",
              "2      3         a          a              14130.0                       12.0   \n",
              "\n",
              "   CompetitionOpenSinceYear  Promo2  Promo2SinceWeek  Promo2SinceYear  \\\n",
              "0                    2008.0       0              NaN              NaN   \n",
              "1                    2007.0       1             13.0           2010.0   \n",
              "2                    2006.0       1             14.0           2011.0   \n",
              "\n",
              "     PromoInterval  \n",
              "0              NaN  \n",
              "1  Jan,Apr,Jul,Oct  \n",
              "2  Jan,Apr,Jul,Oct  "
            ],
            "text/html": [
              "\n",
              "  <div id=\"df-5ff1ca6d-21ca-48af-b458-800378d716af\" class=\"colab-df-container\">\n",
              "    <div>\n",
              "<style scoped>\n",
              "    .dataframe tbody tr th:only-of-type {\n",
              "        vertical-align: middle;\n",
              "    }\n",
              "\n",
              "    .dataframe tbody tr th {\n",
              "        vertical-align: top;\n",
              "    }\n",
              "\n",
              "    .dataframe thead th {\n",
              "        text-align: right;\n",
              "    }\n",
              "</style>\n",
              "<table border=\"1\" class=\"dataframe\">\n",
              "  <thead>\n",
              "    <tr style=\"text-align: right;\">\n",
              "      <th></th>\n",
              "      <th>Store</th>\n",
              "      <th>StoreType</th>\n",
              "      <th>Assortment</th>\n",
              "      <th>CompetitionDistance</th>\n",
              "      <th>CompetitionOpenSinceMonth</th>\n",
              "      <th>CompetitionOpenSinceYear</th>\n",
              "      <th>Promo2</th>\n",
              "      <th>Promo2SinceWeek</th>\n",
              "      <th>Promo2SinceYear</th>\n",
              "      <th>PromoInterval</th>\n",
              "    </tr>\n",
              "  </thead>\n",
              "  <tbody>\n",
              "    <tr>\n",
              "      <th>0</th>\n",
              "      <td>1</td>\n",
              "      <td>c</td>\n",
              "      <td>a</td>\n",
              "      <td>1270.0</td>\n",
              "      <td>9.0</td>\n",
              "      <td>2008.0</td>\n",
              "      <td>0</td>\n",
              "      <td>NaN</td>\n",
              "      <td>NaN</td>\n",
              "      <td>NaN</td>\n",
              "    </tr>\n",
              "    <tr>\n",
              "      <th>1</th>\n",
              "      <td>2</td>\n",
              "      <td>a</td>\n",
              "      <td>a</td>\n",
              "      <td>570.0</td>\n",
              "      <td>11.0</td>\n",
              "      <td>2007.0</td>\n",
              "      <td>1</td>\n",
              "      <td>13.0</td>\n",
              "      <td>2010.0</td>\n",
              "      <td>Jan,Apr,Jul,Oct</td>\n",
              "    </tr>\n",
              "    <tr>\n",
              "      <th>2</th>\n",
              "      <td>3</td>\n",
              "      <td>a</td>\n",
              "      <td>a</td>\n",
              "      <td>14130.0</td>\n",
              "      <td>12.0</td>\n",
              "      <td>2006.0</td>\n",
              "      <td>1</td>\n",
              "      <td>14.0</td>\n",
              "      <td>2011.0</td>\n",
              "      <td>Jan,Apr,Jul,Oct</td>\n",
              "    </tr>\n",
              "  </tbody>\n",
              "</table>\n",
              "</div>\n",
              "    <div class=\"colab-df-buttons\">\n",
              "\n",
              "  <div class=\"colab-df-container\">\n",
              "    <button class=\"colab-df-convert\" onclick=\"convertToInteractive('df-5ff1ca6d-21ca-48af-b458-800378d716af')\"\n",
              "            title=\"Convert this dataframe to an interactive table.\"\n",
              "            style=\"display:none;\">\n",
              "\n",
              "  <svg xmlns=\"http://www.w3.org/2000/svg\" height=\"24px\" viewBox=\"0 -960 960 960\">\n",
              "    <path d=\"M120-120v-720h720v720H120Zm60-500h600v-160H180v160Zm220 220h160v-160H400v160Zm0 220h160v-160H400v160ZM180-400h160v-160H180v160Zm440 0h160v-160H620v160ZM180-180h160v-160H180v160Zm440 0h160v-160H620v160Z\"/>\n",
              "  </svg>\n",
              "    </button>\n",
              "\n",
              "  <style>\n",
              "    .colab-df-container {\n",
              "      display:flex;\n",
              "      gap: 12px;\n",
              "    }\n",
              "\n",
              "    .colab-df-convert {\n",
              "      background-color: #E8F0FE;\n",
              "      border: none;\n",
              "      border-radius: 50%;\n",
              "      cursor: pointer;\n",
              "      display: none;\n",
              "      fill: #1967D2;\n",
              "      height: 32px;\n",
              "      padding: 0 0 0 0;\n",
              "      width: 32px;\n",
              "    }\n",
              "\n",
              "    .colab-df-convert:hover {\n",
              "      background-color: #E2EBFA;\n",
              "      box-shadow: 0px 1px 2px rgba(60, 64, 67, 0.3), 0px 1px 3px 1px rgba(60, 64, 67, 0.15);\n",
              "      fill: #174EA6;\n",
              "    }\n",
              "\n",
              "    .colab-df-buttons div {\n",
              "      margin-bottom: 4px;\n",
              "    }\n",
              "\n",
              "    [theme=dark] .colab-df-convert {\n",
              "      background-color: #3B4455;\n",
              "      fill: #D2E3FC;\n",
              "    }\n",
              "\n",
              "    [theme=dark] .colab-df-convert:hover {\n",
              "      background-color: #434B5C;\n",
              "      box-shadow: 0px 1px 3px 1px rgba(0, 0, 0, 0.15);\n",
              "      filter: drop-shadow(0px 1px 2px rgba(0, 0, 0, 0.3));\n",
              "      fill: #FFFFFF;\n",
              "    }\n",
              "  </style>\n",
              "\n",
              "    <script>\n",
              "      const buttonEl =\n",
              "        document.querySelector('#df-5ff1ca6d-21ca-48af-b458-800378d716af button.colab-df-convert');\n",
              "      buttonEl.style.display =\n",
              "        google.colab.kernel.accessAllowed ? 'block' : 'none';\n",
              "\n",
              "      async function convertToInteractive(key) {\n",
              "        const element = document.querySelector('#df-5ff1ca6d-21ca-48af-b458-800378d716af');\n",
              "        const dataTable =\n",
              "          await google.colab.kernel.invokeFunction('convertToInteractive',\n",
              "                                                    [key], {});\n",
              "        if (!dataTable) return;\n",
              "\n",
              "        const docLinkHtml = 'Like what you see? Visit the ' +\n",
              "          '<a target=\"_blank\" href=https://colab.research.google.com/notebooks/data_table.ipynb>data table notebook</a>'\n",
              "          + ' to learn more about interactive tables.';\n",
              "        element.innerHTML = '';\n",
              "        dataTable['output_type'] = 'display_data';\n",
              "        await google.colab.output.renderOutput(dataTable, element);\n",
              "        const docLink = document.createElement('div');\n",
              "        docLink.innerHTML = docLinkHtml;\n",
              "        element.appendChild(docLink);\n",
              "      }\n",
              "    </script>\n",
              "  </div>\n",
              "\n",
              "\n",
              "<div id=\"df-d5ce0fcd-b16a-4616-9c39-ddc0ca9abee3\">\n",
              "  <button class=\"colab-df-quickchart\" onclick=\"quickchart('df-d5ce0fcd-b16a-4616-9c39-ddc0ca9abee3')\"\n",
              "            title=\"Suggest charts\"\n",
              "            style=\"display:none;\">\n",
              "\n",
              "<svg xmlns=\"http://www.w3.org/2000/svg\" height=\"24px\"viewBox=\"0 0 24 24\"\n",
              "     width=\"24px\">\n",
              "    <g>\n",
              "        <path d=\"M19 3H5c-1.1 0-2 .9-2 2v14c0 1.1.9 2 2 2h14c1.1 0 2-.9 2-2V5c0-1.1-.9-2-2-2zM9 17H7v-7h2v7zm4 0h-2V7h2v10zm4 0h-2v-4h2v4z\"/>\n",
              "    </g>\n",
              "</svg>\n",
              "  </button>\n",
              "\n",
              "<style>\n",
              "  .colab-df-quickchart {\n",
              "      --bg-color: #E8F0FE;\n",
              "      --fill-color: #1967D2;\n",
              "      --hover-bg-color: #E2EBFA;\n",
              "      --hover-fill-color: #174EA6;\n",
              "      --disabled-fill-color: #AAA;\n",
              "      --disabled-bg-color: #DDD;\n",
              "  }\n",
              "\n",
              "  [theme=dark] .colab-df-quickchart {\n",
              "      --bg-color: #3B4455;\n",
              "      --fill-color: #D2E3FC;\n",
              "      --hover-bg-color: #434B5C;\n",
              "      --hover-fill-color: #FFFFFF;\n",
              "      --disabled-bg-color: #3B4455;\n",
              "      --disabled-fill-color: #666;\n",
              "  }\n",
              "\n",
              "  .colab-df-quickchart {\n",
              "    background-color: var(--bg-color);\n",
              "    border: none;\n",
              "    border-radius: 50%;\n",
              "    cursor: pointer;\n",
              "    display: none;\n",
              "    fill: var(--fill-color);\n",
              "    height: 32px;\n",
              "    padding: 0;\n",
              "    width: 32px;\n",
              "  }\n",
              "\n",
              "  .colab-df-quickchart:hover {\n",
              "    background-color: var(--hover-bg-color);\n",
              "    box-shadow: 0 1px 2px rgba(60, 64, 67, 0.3), 0 1px 3px 1px rgba(60, 64, 67, 0.15);\n",
              "    fill: var(--button-hover-fill-color);\n",
              "  }\n",
              "\n",
              "  .colab-df-quickchart-complete:disabled,\n",
              "  .colab-df-quickchart-complete:disabled:hover {\n",
              "    background-color: var(--disabled-bg-color);\n",
              "    fill: var(--disabled-fill-color);\n",
              "    box-shadow: none;\n",
              "  }\n",
              "\n",
              "  .colab-df-spinner {\n",
              "    border: 2px solid var(--fill-color);\n",
              "    border-color: transparent;\n",
              "    border-bottom-color: var(--fill-color);\n",
              "    animation:\n",
              "      spin 1s steps(1) infinite;\n",
              "  }\n",
              "\n",
              "  @keyframes spin {\n",
              "    0% {\n",
              "      border-color: transparent;\n",
              "      border-bottom-color: var(--fill-color);\n",
              "      border-left-color: var(--fill-color);\n",
              "    }\n",
              "    20% {\n",
              "      border-color: transparent;\n",
              "      border-left-color: var(--fill-color);\n",
              "      border-top-color: var(--fill-color);\n",
              "    }\n",
              "    30% {\n",
              "      border-color: transparent;\n",
              "      border-left-color: var(--fill-color);\n",
              "      border-top-color: var(--fill-color);\n",
              "      border-right-color: var(--fill-color);\n",
              "    }\n",
              "    40% {\n",
              "      border-color: transparent;\n",
              "      border-right-color: var(--fill-color);\n",
              "      border-top-color: var(--fill-color);\n",
              "    }\n",
              "    60% {\n",
              "      border-color: transparent;\n",
              "      border-right-color: var(--fill-color);\n",
              "    }\n",
              "    80% {\n",
              "      border-color: transparent;\n",
              "      border-right-color: var(--fill-color);\n",
              "      border-bottom-color: var(--fill-color);\n",
              "    }\n",
              "    90% {\n",
              "      border-color: transparent;\n",
              "      border-bottom-color: var(--fill-color);\n",
              "    }\n",
              "  }\n",
              "</style>\n",
              "\n",
              "  <script>\n",
              "    async function quickchart(key) {\n",
              "      const quickchartButtonEl =\n",
              "        document.querySelector('#' + key + ' button');\n",
              "      quickchartButtonEl.disabled = true;  // To prevent multiple clicks.\n",
              "      quickchartButtonEl.classList.add('colab-df-spinner');\n",
              "      try {\n",
              "        const charts = await google.colab.kernel.invokeFunction(\n",
              "            'suggestCharts', [key], {});\n",
              "      } catch (error) {\n",
              "        console.error('Error during call to suggestCharts:', error);\n",
              "      }\n",
              "      quickchartButtonEl.classList.remove('colab-df-spinner');\n",
              "      quickchartButtonEl.classList.add('colab-df-quickchart-complete');\n",
              "    }\n",
              "    (() => {\n",
              "      let quickchartButtonEl =\n",
              "        document.querySelector('#df-d5ce0fcd-b16a-4616-9c39-ddc0ca9abee3 button');\n",
              "      quickchartButtonEl.style.display =\n",
              "        google.colab.kernel.accessAllowed ? 'block' : 'none';\n",
              "    })();\n",
              "  </script>\n",
              "</div>\n",
              "    </div>\n",
              "  </div>\n"
            ]
          },
          "metadata": {},
          "execution_count": 22
        }
      ]
    },
    {
      "cell_type": "code",
      "source": [
        "store_data.tail(3)    #Store Data last 3 rows"
      ],
      "metadata": {
        "colab": {
          "base_uri": "https://localhost:8080/",
          "height": 143
        },
        "id": "H_x6eDRD_3uQ",
        "outputId": "527d8ac4-12ae-4145-8a5e-42e9cd313899"
      },
      "execution_count": 23,
      "outputs": [
        {
          "output_type": "execute_result",
          "data": {
            "text/plain": [
              "      Store StoreType Assortment  CompetitionDistance  \\\n",
              "1112   1113         a          c               9260.0   \n",
              "1113   1114         a          c                870.0   \n",
              "1114   1115         d          c               5350.0   \n",
              "\n",
              "      CompetitionOpenSinceMonth  CompetitionOpenSinceYear  Promo2  \\\n",
              "1112                        NaN                       NaN       0   \n",
              "1113                        NaN                       NaN       0   \n",
              "1114                        NaN                       NaN       1   \n",
              "\n",
              "      Promo2SinceWeek  Promo2SinceYear     PromoInterval  \n",
              "1112              NaN              NaN               NaN  \n",
              "1113              NaN              NaN               NaN  \n",
              "1114             22.0           2012.0  Mar,Jun,Sept,Dec  "
            ],
            "text/html": [
              "\n",
              "  <div id=\"df-d8305b1b-91b2-4480-8089-3ed9a9e9f9dc\" class=\"colab-df-container\">\n",
              "    <div>\n",
              "<style scoped>\n",
              "    .dataframe tbody tr th:only-of-type {\n",
              "        vertical-align: middle;\n",
              "    }\n",
              "\n",
              "    .dataframe tbody tr th {\n",
              "        vertical-align: top;\n",
              "    }\n",
              "\n",
              "    .dataframe thead th {\n",
              "        text-align: right;\n",
              "    }\n",
              "</style>\n",
              "<table border=\"1\" class=\"dataframe\">\n",
              "  <thead>\n",
              "    <tr style=\"text-align: right;\">\n",
              "      <th></th>\n",
              "      <th>Store</th>\n",
              "      <th>StoreType</th>\n",
              "      <th>Assortment</th>\n",
              "      <th>CompetitionDistance</th>\n",
              "      <th>CompetitionOpenSinceMonth</th>\n",
              "      <th>CompetitionOpenSinceYear</th>\n",
              "      <th>Promo2</th>\n",
              "      <th>Promo2SinceWeek</th>\n",
              "      <th>Promo2SinceYear</th>\n",
              "      <th>PromoInterval</th>\n",
              "    </tr>\n",
              "  </thead>\n",
              "  <tbody>\n",
              "    <tr>\n",
              "      <th>1112</th>\n",
              "      <td>1113</td>\n",
              "      <td>a</td>\n",
              "      <td>c</td>\n",
              "      <td>9260.0</td>\n",
              "      <td>NaN</td>\n",
              "      <td>NaN</td>\n",
              "      <td>0</td>\n",
              "      <td>NaN</td>\n",
              "      <td>NaN</td>\n",
              "      <td>NaN</td>\n",
              "    </tr>\n",
              "    <tr>\n",
              "      <th>1113</th>\n",
              "      <td>1114</td>\n",
              "      <td>a</td>\n",
              "      <td>c</td>\n",
              "      <td>870.0</td>\n",
              "      <td>NaN</td>\n",
              "      <td>NaN</td>\n",
              "      <td>0</td>\n",
              "      <td>NaN</td>\n",
              "      <td>NaN</td>\n",
              "      <td>NaN</td>\n",
              "    </tr>\n",
              "    <tr>\n",
              "      <th>1114</th>\n",
              "      <td>1115</td>\n",
              "      <td>d</td>\n",
              "      <td>c</td>\n",
              "      <td>5350.0</td>\n",
              "      <td>NaN</td>\n",
              "      <td>NaN</td>\n",
              "      <td>1</td>\n",
              "      <td>22.0</td>\n",
              "      <td>2012.0</td>\n",
              "      <td>Mar,Jun,Sept,Dec</td>\n",
              "    </tr>\n",
              "  </tbody>\n",
              "</table>\n",
              "</div>\n",
              "    <div class=\"colab-df-buttons\">\n",
              "\n",
              "  <div class=\"colab-df-container\">\n",
              "    <button class=\"colab-df-convert\" onclick=\"convertToInteractive('df-d8305b1b-91b2-4480-8089-3ed9a9e9f9dc')\"\n",
              "            title=\"Convert this dataframe to an interactive table.\"\n",
              "            style=\"display:none;\">\n",
              "\n",
              "  <svg xmlns=\"http://www.w3.org/2000/svg\" height=\"24px\" viewBox=\"0 -960 960 960\">\n",
              "    <path d=\"M120-120v-720h720v720H120Zm60-500h600v-160H180v160Zm220 220h160v-160H400v160Zm0 220h160v-160H400v160ZM180-400h160v-160H180v160Zm440 0h160v-160H620v160ZM180-180h160v-160H180v160Zm440 0h160v-160H620v160Z\"/>\n",
              "  </svg>\n",
              "    </button>\n",
              "\n",
              "  <style>\n",
              "    .colab-df-container {\n",
              "      display:flex;\n",
              "      gap: 12px;\n",
              "    }\n",
              "\n",
              "    .colab-df-convert {\n",
              "      background-color: #E8F0FE;\n",
              "      border: none;\n",
              "      border-radius: 50%;\n",
              "      cursor: pointer;\n",
              "      display: none;\n",
              "      fill: #1967D2;\n",
              "      height: 32px;\n",
              "      padding: 0 0 0 0;\n",
              "      width: 32px;\n",
              "    }\n",
              "\n",
              "    .colab-df-convert:hover {\n",
              "      background-color: #E2EBFA;\n",
              "      box-shadow: 0px 1px 2px rgba(60, 64, 67, 0.3), 0px 1px 3px 1px rgba(60, 64, 67, 0.15);\n",
              "      fill: #174EA6;\n",
              "    }\n",
              "\n",
              "    .colab-df-buttons div {\n",
              "      margin-bottom: 4px;\n",
              "    }\n",
              "\n",
              "    [theme=dark] .colab-df-convert {\n",
              "      background-color: #3B4455;\n",
              "      fill: #D2E3FC;\n",
              "    }\n",
              "\n",
              "    [theme=dark] .colab-df-convert:hover {\n",
              "      background-color: #434B5C;\n",
              "      box-shadow: 0px 1px 3px 1px rgba(0, 0, 0, 0.15);\n",
              "      filter: drop-shadow(0px 1px 2px rgba(0, 0, 0, 0.3));\n",
              "      fill: #FFFFFF;\n",
              "    }\n",
              "  </style>\n",
              "\n",
              "    <script>\n",
              "      const buttonEl =\n",
              "        document.querySelector('#df-d8305b1b-91b2-4480-8089-3ed9a9e9f9dc button.colab-df-convert');\n",
              "      buttonEl.style.display =\n",
              "        google.colab.kernel.accessAllowed ? 'block' : 'none';\n",
              "\n",
              "      async function convertToInteractive(key) {\n",
              "        const element = document.querySelector('#df-d8305b1b-91b2-4480-8089-3ed9a9e9f9dc');\n",
              "        const dataTable =\n",
              "          await google.colab.kernel.invokeFunction('convertToInteractive',\n",
              "                                                    [key], {});\n",
              "        if (!dataTable) return;\n",
              "\n",
              "        const docLinkHtml = 'Like what you see? Visit the ' +\n",
              "          '<a target=\"_blank\" href=https://colab.research.google.com/notebooks/data_table.ipynb>data table notebook</a>'\n",
              "          + ' to learn more about interactive tables.';\n",
              "        element.innerHTML = '';\n",
              "        dataTable['output_type'] = 'display_data';\n",
              "        await google.colab.output.renderOutput(dataTable, element);\n",
              "        const docLink = document.createElement('div');\n",
              "        docLink.innerHTML = docLinkHtml;\n",
              "        element.appendChild(docLink);\n",
              "      }\n",
              "    </script>\n",
              "  </div>\n",
              "\n",
              "\n",
              "<div id=\"df-41ba372c-d47d-453d-9630-f49cb9311b25\">\n",
              "  <button class=\"colab-df-quickchart\" onclick=\"quickchart('df-41ba372c-d47d-453d-9630-f49cb9311b25')\"\n",
              "            title=\"Suggest charts\"\n",
              "            style=\"display:none;\">\n",
              "\n",
              "<svg xmlns=\"http://www.w3.org/2000/svg\" height=\"24px\"viewBox=\"0 0 24 24\"\n",
              "     width=\"24px\">\n",
              "    <g>\n",
              "        <path d=\"M19 3H5c-1.1 0-2 .9-2 2v14c0 1.1.9 2 2 2h14c1.1 0 2-.9 2-2V5c0-1.1-.9-2-2-2zM9 17H7v-7h2v7zm4 0h-2V7h2v10zm4 0h-2v-4h2v4z\"/>\n",
              "    </g>\n",
              "</svg>\n",
              "  </button>\n",
              "\n",
              "<style>\n",
              "  .colab-df-quickchart {\n",
              "      --bg-color: #E8F0FE;\n",
              "      --fill-color: #1967D2;\n",
              "      --hover-bg-color: #E2EBFA;\n",
              "      --hover-fill-color: #174EA6;\n",
              "      --disabled-fill-color: #AAA;\n",
              "      --disabled-bg-color: #DDD;\n",
              "  }\n",
              "\n",
              "  [theme=dark] .colab-df-quickchart {\n",
              "      --bg-color: #3B4455;\n",
              "      --fill-color: #D2E3FC;\n",
              "      --hover-bg-color: #434B5C;\n",
              "      --hover-fill-color: #FFFFFF;\n",
              "      --disabled-bg-color: #3B4455;\n",
              "      --disabled-fill-color: #666;\n",
              "  }\n",
              "\n",
              "  .colab-df-quickchart {\n",
              "    background-color: var(--bg-color);\n",
              "    border: none;\n",
              "    border-radius: 50%;\n",
              "    cursor: pointer;\n",
              "    display: none;\n",
              "    fill: var(--fill-color);\n",
              "    height: 32px;\n",
              "    padding: 0;\n",
              "    width: 32px;\n",
              "  }\n",
              "\n",
              "  .colab-df-quickchart:hover {\n",
              "    background-color: var(--hover-bg-color);\n",
              "    box-shadow: 0 1px 2px rgba(60, 64, 67, 0.3), 0 1px 3px 1px rgba(60, 64, 67, 0.15);\n",
              "    fill: var(--button-hover-fill-color);\n",
              "  }\n",
              "\n",
              "  .colab-df-quickchart-complete:disabled,\n",
              "  .colab-df-quickchart-complete:disabled:hover {\n",
              "    background-color: var(--disabled-bg-color);\n",
              "    fill: var(--disabled-fill-color);\n",
              "    box-shadow: none;\n",
              "  }\n",
              "\n",
              "  .colab-df-spinner {\n",
              "    border: 2px solid var(--fill-color);\n",
              "    border-color: transparent;\n",
              "    border-bottom-color: var(--fill-color);\n",
              "    animation:\n",
              "      spin 1s steps(1) infinite;\n",
              "  }\n",
              "\n",
              "  @keyframes spin {\n",
              "    0% {\n",
              "      border-color: transparent;\n",
              "      border-bottom-color: var(--fill-color);\n",
              "      border-left-color: var(--fill-color);\n",
              "    }\n",
              "    20% {\n",
              "      border-color: transparent;\n",
              "      border-left-color: var(--fill-color);\n",
              "      border-top-color: var(--fill-color);\n",
              "    }\n",
              "    30% {\n",
              "      border-color: transparent;\n",
              "      border-left-color: var(--fill-color);\n",
              "      border-top-color: var(--fill-color);\n",
              "      border-right-color: var(--fill-color);\n",
              "    }\n",
              "    40% {\n",
              "      border-color: transparent;\n",
              "      border-right-color: var(--fill-color);\n",
              "      border-top-color: var(--fill-color);\n",
              "    }\n",
              "    60% {\n",
              "      border-color: transparent;\n",
              "      border-right-color: var(--fill-color);\n",
              "    }\n",
              "    80% {\n",
              "      border-color: transparent;\n",
              "      border-right-color: var(--fill-color);\n",
              "      border-bottom-color: var(--fill-color);\n",
              "    }\n",
              "    90% {\n",
              "      border-color: transparent;\n",
              "      border-bottom-color: var(--fill-color);\n",
              "    }\n",
              "  }\n",
              "</style>\n",
              "\n",
              "  <script>\n",
              "    async function quickchart(key) {\n",
              "      const quickchartButtonEl =\n",
              "        document.querySelector('#' + key + ' button');\n",
              "      quickchartButtonEl.disabled = true;  // To prevent multiple clicks.\n",
              "      quickchartButtonEl.classList.add('colab-df-spinner');\n",
              "      try {\n",
              "        const charts = await google.colab.kernel.invokeFunction(\n",
              "            'suggestCharts', [key], {});\n",
              "      } catch (error) {\n",
              "        console.error('Error during call to suggestCharts:', error);\n",
              "      }\n",
              "      quickchartButtonEl.classList.remove('colab-df-spinner');\n",
              "      quickchartButtonEl.classList.add('colab-df-quickchart-complete');\n",
              "    }\n",
              "    (() => {\n",
              "      let quickchartButtonEl =\n",
              "        document.querySelector('#df-41ba372c-d47d-453d-9630-f49cb9311b25 button');\n",
              "      quickchartButtonEl.style.display =\n",
              "        google.colab.kernel.accessAllowed ? 'block' : 'none';\n",
              "    })();\n",
              "  </script>\n",
              "</div>\n",
              "    </div>\n",
              "  </div>\n"
            ]
          },
          "metadata": {},
          "execution_count": 23
        }
      ]
    },
    {
      "cell_type": "markdown",
      "source": [
        "### Dataset Rows & Columns count"
      ],
      "metadata": {
        "id": "7hBIi_osiCS2"
      }
    },
    {
      "cell_type": "code",
      "source": [
        "# Dataset Rows & Columns count\n",
        "# Count the number of rows and columns for both datasets\n",
        "rossmann_shape = rossmann_data.shape\n",
        "store_shape = store_data.shape\n",
        "\n",
        "# Display the shape of the datasets\n",
        "print('Rossmann Stores Data shape:', rossmann_shape)\n",
        "print('Store Data shape:', store_shape)"
      ],
      "metadata": {
        "id": "Kllu7SJgmLij",
        "colab": {
          "base_uri": "https://localhost:8080/"
        },
        "outputId": "a17e569a-f8bc-4e0b-d943-01dc26b35796"
      },
      "execution_count": 24,
      "outputs": [
        {
          "output_type": "stream",
          "name": "stdout",
          "text": [
            "Rossmann Stores Data shape: (1017209, 9)\n",
            "Store Data shape: (1115, 10)\n"
          ]
        }
      ]
    },
    {
      "cell_type": "markdown",
      "source": [
        "**The Rossmann Stores Data contains 1,017,209 rows and 9 columns.**\n",
        "\n",
        "**The Store Data comprises 1,115 rows and 10 columns.**"
      ],
      "metadata": {
        "id": "YRmAe5E8E6TA"
      }
    },
    {
      "cell_type": "markdown",
      "source": [
        "### Dataset Information"
      ],
      "metadata": {
        "id": "JlHwYmJAmNHm"
      }
    },
    {
      "cell_type": "code",
      "source": [
        "# Dataset Info\n",
        "print('Rossmann Stores Data Info:')\n",
        "print(rossmann_data.info())\n",
        "print('\\nStore Data Info:')\n",
        "print(store_data.info())"
      ],
      "metadata": {
        "id": "e9hRXRi6meOf",
        "colab": {
          "base_uri": "https://localhost:8080/"
        },
        "outputId": "e8e407d0-8d93-4823-cf6f-b69b0233e76c"
      },
      "execution_count": 35,
      "outputs": [
        {
          "output_type": "stream",
          "name": "stdout",
          "text": [
            "Rossmann Stores Data Info:\n",
            "<class 'pandas.core.frame.DataFrame'>\n",
            "RangeIndex: 1017209 entries, 0 to 1017208\n",
            "Data columns (total 9 columns):\n",
            " #   Column         Non-Null Count    Dtype \n",
            "---  ------         --------------    ----- \n",
            " 0   Store          1017209 non-null  int64 \n",
            " 1   DayOfWeek      1017209 non-null  int64 \n",
            " 2   Date           1017209 non-null  object\n",
            " 3   Sales          1017209 non-null  int64 \n",
            " 4   Customers      1017209 non-null  int64 \n",
            " 5   Open           1017209 non-null  int64 \n",
            " 6   Promo          1017209 non-null  int64 \n",
            " 7   StateHoliday   1017209 non-null  object\n",
            " 8   SchoolHoliday  1017209 non-null  int64 \n",
            "dtypes: int64(7), object(2)\n",
            "memory usage: 69.8+ MB\n",
            "None\n",
            "\n",
            "Store Data Info:\n",
            "<class 'pandas.core.frame.DataFrame'>\n",
            "RangeIndex: 1115 entries, 0 to 1114\n",
            "Data columns (total 10 columns):\n",
            " #   Column                     Non-Null Count  Dtype  \n",
            "---  ------                     --------------  -----  \n",
            " 0   Store                      1115 non-null   int64  \n",
            " 1   StoreType                  1115 non-null   object \n",
            " 2   Assortment                 1115 non-null   object \n",
            " 3   CompetitionDistance        1112 non-null   float64\n",
            " 4   CompetitionOpenSinceMonth  761 non-null    float64\n",
            " 5   CompetitionOpenSinceYear   761 non-null    float64\n",
            " 6   Promo2                     1115 non-null   int64  \n",
            " 7   Promo2SinceWeek            571 non-null    float64\n",
            " 8   Promo2SinceYear            571 non-null    float64\n",
            " 9   PromoInterval              571 non-null    object \n",
            "dtypes: float64(5), int64(2), object(3)\n",
            "memory usage: 87.2+ KB\n",
            "None\n"
          ]
        }
      ]
    },
    {
      "cell_type": "code",
      "source": [
        "rossmann_data.describe()    #summary statistics for rossmann data"
      ],
      "metadata": {
        "colab": {
          "base_uri": "https://localhost:8080/",
          "height": 300
        },
        "id": "ICAe9MU3MkPd",
        "outputId": "57c21d5a-6e5e-45e7-fa35-853a50110168"
      },
      "execution_count": 38,
      "outputs": [
        {
          "output_type": "execute_result",
          "data": {
            "text/plain": [
              "              Store     DayOfWeek         Sales     Customers          Open  \\\n",
              "count  1.017209e+06  1.017209e+06  1.017209e+06  1.017209e+06  1.017209e+06   \n",
              "mean   5.584297e+02  3.998341e+00  5.773819e+03  6.331459e+02  8.301067e-01   \n",
              "std    3.219087e+02  1.997391e+00  3.849926e+03  4.644117e+02  3.755392e-01   \n",
              "min    1.000000e+00  1.000000e+00  0.000000e+00  0.000000e+00  0.000000e+00   \n",
              "25%    2.800000e+02  2.000000e+00  3.727000e+03  4.050000e+02  1.000000e+00   \n",
              "50%    5.580000e+02  4.000000e+00  5.744000e+03  6.090000e+02  1.000000e+00   \n",
              "75%    8.380000e+02  6.000000e+00  7.856000e+03  8.370000e+02  1.000000e+00   \n",
              "max    1.115000e+03  7.000000e+00  4.155100e+04  7.388000e+03  1.000000e+00   \n",
              "\n",
              "              Promo  SchoolHoliday  \n",
              "count  1.017209e+06   1.017209e+06  \n",
              "mean   3.815145e-01   1.786467e-01  \n",
              "std    4.857586e-01   3.830564e-01  \n",
              "min    0.000000e+00   0.000000e+00  \n",
              "25%    0.000000e+00   0.000000e+00  \n",
              "50%    0.000000e+00   0.000000e+00  \n",
              "75%    1.000000e+00   0.000000e+00  \n",
              "max    1.000000e+00   1.000000e+00  "
            ],
            "text/html": [
              "\n",
              "  <div id=\"df-fc753f9a-6f64-41f6-9eef-0fd71dde08a9\" class=\"colab-df-container\">\n",
              "    <div>\n",
              "<style scoped>\n",
              "    .dataframe tbody tr th:only-of-type {\n",
              "        vertical-align: middle;\n",
              "    }\n",
              "\n",
              "    .dataframe tbody tr th {\n",
              "        vertical-align: top;\n",
              "    }\n",
              "\n",
              "    .dataframe thead th {\n",
              "        text-align: right;\n",
              "    }\n",
              "</style>\n",
              "<table border=\"1\" class=\"dataframe\">\n",
              "  <thead>\n",
              "    <tr style=\"text-align: right;\">\n",
              "      <th></th>\n",
              "      <th>Store</th>\n",
              "      <th>DayOfWeek</th>\n",
              "      <th>Sales</th>\n",
              "      <th>Customers</th>\n",
              "      <th>Open</th>\n",
              "      <th>Promo</th>\n",
              "      <th>SchoolHoliday</th>\n",
              "    </tr>\n",
              "  </thead>\n",
              "  <tbody>\n",
              "    <tr>\n",
              "      <th>count</th>\n",
              "      <td>1.017209e+06</td>\n",
              "      <td>1.017209e+06</td>\n",
              "      <td>1.017209e+06</td>\n",
              "      <td>1.017209e+06</td>\n",
              "      <td>1.017209e+06</td>\n",
              "      <td>1.017209e+06</td>\n",
              "      <td>1.017209e+06</td>\n",
              "    </tr>\n",
              "    <tr>\n",
              "      <th>mean</th>\n",
              "      <td>5.584297e+02</td>\n",
              "      <td>3.998341e+00</td>\n",
              "      <td>5.773819e+03</td>\n",
              "      <td>6.331459e+02</td>\n",
              "      <td>8.301067e-01</td>\n",
              "      <td>3.815145e-01</td>\n",
              "      <td>1.786467e-01</td>\n",
              "    </tr>\n",
              "    <tr>\n",
              "      <th>std</th>\n",
              "      <td>3.219087e+02</td>\n",
              "      <td>1.997391e+00</td>\n",
              "      <td>3.849926e+03</td>\n",
              "      <td>4.644117e+02</td>\n",
              "      <td>3.755392e-01</td>\n",
              "      <td>4.857586e-01</td>\n",
              "      <td>3.830564e-01</td>\n",
              "    </tr>\n",
              "    <tr>\n",
              "      <th>min</th>\n",
              "      <td>1.000000e+00</td>\n",
              "      <td>1.000000e+00</td>\n",
              "      <td>0.000000e+00</td>\n",
              "      <td>0.000000e+00</td>\n",
              "      <td>0.000000e+00</td>\n",
              "      <td>0.000000e+00</td>\n",
              "      <td>0.000000e+00</td>\n",
              "    </tr>\n",
              "    <tr>\n",
              "      <th>25%</th>\n",
              "      <td>2.800000e+02</td>\n",
              "      <td>2.000000e+00</td>\n",
              "      <td>3.727000e+03</td>\n",
              "      <td>4.050000e+02</td>\n",
              "      <td>1.000000e+00</td>\n",
              "      <td>0.000000e+00</td>\n",
              "      <td>0.000000e+00</td>\n",
              "    </tr>\n",
              "    <tr>\n",
              "      <th>50%</th>\n",
              "      <td>5.580000e+02</td>\n",
              "      <td>4.000000e+00</td>\n",
              "      <td>5.744000e+03</td>\n",
              "      <td>6.090000e+02</td>\n",
              "      <td>1.000000e+00</td>\n",
              "      <td>0.000000e+00</td>\n",
              "      <td>0.000000e+00</td>\n",
              "    </tr>\n",
              "    <tr>\n",
              "      <th>75%</th>\n",
              "      <td>8.380000e+02</td>\n",
              "      <td>6.000000e+00</td>\n",
              "      <td>7.856000e+03</td>\n",
              "      <td>8.370000e+02</td>\n",
              "      <td>1.000000e+00</td>\n",
              "      <td>1.000000e+00</td>\n",
              "      <td>0.000000e+00</td>\n",
              "    </tr>\n",
              "    <tr>\n",
              "      <th>max</th>\n",
              "      <td>1.115000e+03</td>\n",
              "      <td>7.000000e+00</td>\n",
              "      <td>4.155100e+04</td>\n",
              "      <td>7.388000e+03</td>\n",
              "      <td>1.000000e+00</td>\n",
              "      <td>1.000000e+00</td>\n",
              "      <td>1.000000e+00</td>\n",
              "    </tr>\n",
              "  </tbody>\n",
              "</table>\n",
              "</div>\n",
              "    <div class=\"colab-df-buttons\">\n",
              "\n",
              "  <div class=\"colab-df-container\">\n",
              "    <button class=\"colab-df-convert\" onclick=\"convertToInteractive('df-fc753f9a-6f64-41f6-9eef-0fd71dde08a9')\"\n",
              "            title=\"Convert this dataframe to an interactive table.\"\n",
              "            style=\"display:none;\">\n",
              "\n",
              "  <svg xmlns=\"http://www.w3.org/2000/svg\" height=\"24px\" viewBox=\"0 -960 960 960\">\n",
              "    <path d=\"M120-120v-720h720v720H120Zm60-500h600v-160H180v160Zm220 220h160v-160H400v160Zm0 220h160v-160H400v160ZM180-400h160v-160H180v160Zm440 0h160v-160H620v160ZM180-180h160v-160H180v160Zm440 0h160v-160H620v160Z\"/>\n",
              "  </svg>\n",
              "    </button>\n",
              "\n",
              "  <style>\n",
              "    .colab-df-container {\n",
              "      display:flex;\n",
              "      gap: 12px;\n",
              "    }\n",
              "\n",
              "    .colab-df-convert {\n",
              "      background-color: #E8F0FE;\n",
              "      border: none;\n",
              "      border-radius: 50%;\n",
              "      cursor: pointer;\n",
              "      display: none;\n",
              "      fill: #1967D2;\n",
              "      height: 32px;\n",
              "      padding: 0 0 0 0;\n",
              "      width: 32px;\n",
              "    }\n",
              "\n",
              "    .colab-df-convert:hover {\n",
              "      background-color: #E2EBFA;\n",
              "      box-shadow: 0px 1px 2px rgba(60, 64, 67, 0.3), 0px 1px 3px 1px rgba(60, 64, 67, 0.15);\n",
              "      fill: #174EA6;\n",
              "    }\n",
              "\n",
              "    .colab-df-buttons div {\n",
              "      margin-bottom: 4px;\n",
              "    }\n",
              "\n",
              "    [theme=dark] .colab-df-convert {\n",
              "      background-color: #3B4455;\n",
              "      fill: #D2E3FC;\n",
              "    }\n",
              "\n",
              "    [theme=dark] .colab-df-convert:hover {\n",
              "      background-color: #434B5C;\n",
              "      box-shadow: 0px 1px 3px 1px rgba(0, 0, 0, 0.15);\n",
              "      filter: drop-shadow(0px 1px 2px rgba(0, 0, 0, 0.3));\n",
              "      fill: #FFFFFF;\n",
              "    }\n",
              "  </style>\n",
              "\n",
              "    <script>\n",
              "      const buttonEl =\n",
              "        document.querySelector('#df-fc753f9a-6f64-41f6-9eef-0fd71dde08a9 button.colab-df-convert');\n",
              "      buttonEl.style.display =\n",
              "        google.colab.kernel.accessAllowed ? 'block' : 'none';\n",
              "\n",
              "      async function convertToInteractive(key) {\n",
              "        const element = document.querySelector('#df-fc753f9a-6f64-41f6-9eef-0fd71dde08a9');\n",
              "        const dataTable =\n",
              "          await google.colab.kernel.invokeFunction('convertToInteractive',\n",
              "                                                    [key], {});\n",
              "        if (!dataTable) return;\n",
              "\n",
              "        const docLinkHtml = 'Like what you see? Visit the ' +\n",
              "          '<a target=\"_blank\" href=https://colab.research.google.com/notebooks/data_table.ipynb>data table notebook</a>'\n",
              "          + ' to learn more about interactive tables.';\n",
              "        element.innerHTML = '';\n",
              "        dataTable['output_type'] = 'display_data';\n",
              "        await google.colab.output.renderOutput(dataTable, element);\n",
              "        const docLink = document.createElement('div');\n",
              "        docLink.innerHTML = docLinkHtml;\n",
              "        element.appendChild(docLink);\n",
              "      }\n",
              "    </script>\n",
              "  </div>\n",
              "\n",
              "\n",
              "<div id=\"df-eca09095-a6d4-4c2c-97d5-b8f3fcbbe52c\">\n",
              "  <button class=\"colab-df-quickchart\" onclick=\"quickchart('df-eca09095-a6d4-4c2c-97d5-b8f3fcbbe52c')\"\n",
              "            title=\"Suggest charts\"\n",
              "            style=\"display:none;\">\n",
              "\n",
              "<svg xmlns=\"http://www.w3.org/2000/svg\" height=\"24px\"viewBox=\"0 0 24 24\"\n",
              "     width=\"24px\">\n",
              "    <g>\n",
              "        <path d=\"M19 3H5c-1.1 0-2 .9-2 2v14c0 1.1.9 2 2 2h14c1.1 0 2-.9 2-2V5c0-1.1-.9-2-2-2zM9 17H7v-7h2v7zm4 0h-2V7h2v10zm4 0h-2v-4h2v4z\"/>\n",
              "    </g>\n",
              "</svg>\n",
              "  </button>\n",
              "\n",
              "<style>\n",
              "  .colab-df-quickchart {\n",
              "      --bg-color: #E8F0FE;\n",
              "      --fill-color: #1967D2;\n",
              "      --hover-bg-color: #E2EBFA;\n",
              "      --hover-fill-color: #174EA6;\n",
              "      --disabled-fill-color: #AAA;\n",
              "      --disabled-bg-color: #DDD;\n",
              "  }\n",
              "\n",
              "  [theme=dark] .colab-df-quickchart {\n",
              "      --bg-color: #3B4455;\n",
              "      --fill-color: #D2E3FC;\n",
              "      --hover-bg-color: #434B5C;\n",
              "      --hover-fill-color: #FFFFFF;\n",
              "      --disabled-bg-color: #3B4455;\n",
              "      --disabled-fill-color: #666;\n",
              "  }\n",
              "\n",
              "  .colab-df-quickchart {\n",
              "    background-color: var(--bg-color);\n",
              "    border: none;\n",
              "    border-radius: 50%;\n",
              "    cursor: pointer;\n",
              "    display: none;\n",
              "    fill: var(--fill-color);\n",
              "    height: 32px;\n",
              "    padding: 0;\n",
              "    width: 32px;\n",
              "  }\n",
              "\n",
              "  .colab-df-quickchart:hover {\n",
              "    background-color: var(--hover-bg-color);\n",
              "    box-shadow: 0 1px 2px rgba(60, 64, 67, 0.3), 0 1px 3px 1px rgba(60, 64, 67, 0.15);\n",
              "    fill: var(--button-hover-fill-color);\n",
              "  }\n",
              "\n",
              "  .colab-df-quickchart-complete:disabled,\n",
              "  .colab-df-quickchart-complete:disabled:hover {\n",
              "    background-color: var(--disabled-bg-color);\n",
              "    fill: var(--disabled-fill-color);\n",
              "    box-shadow: none;\n",
              "  }\n",
              "\n",
              "  .colab-df-spinner {\n",
              "    border: 2px solid var(--fill-color);\n",
              "    border-color: transparent;\n",
              "    border-bottom-color: var(--fill-color);\n",
              "    animation:\n",
              "      spin 1s steps(1) infinite;\n",
              "  }\n",
              "\n",
              "  @keyframes spin {\n",
              "    0% {\n",
              "      border-color: transparent;\n",
              "      border-bottom-color: var(--fill-color);\n",
              "      border-left-color: var(--fill-color);\n",
              "    }\n",
              "    20% {\n",
              "      border-color: transparent;\n",
              "      border-left-color: var(--fill-color);\n",
              "      border-top-color: var(--fill-color);\n",
              "    }\n",
              "    30% {\n",
              "      border-color: transparent;\n",
              "      border-left-color: var(--fill-color);\n",
              "      border-top-color: var(--fill-color);\n",
              "      border-right-color: var(--fill-color);\n",
              "    }\n",
              "    40% {\n",
              "      border-color: transparent;\n",
              "      border-right-color: var(--fill-color);\n",
              "      border-top-color: var(--fill-color);\n",
              "    }\n",
              "    60% {\n",
              "      border-color: transparent;\n",
              "      border-right-color: var(--fill-color);\n",
              "    }\n",
              "    80% {\n",
              "      border-color: transparent;\n",
              "      border-right-color: var(--fill-color);\n",
              "      border-bottom-color: var(--fill-color);\n",
              "    }\n",
              "    90% {\n",
              "      border-color: transparent;\n",
              "      border-bottom-color: var(--fill-color);\n",
              "    }\n",
              "  }\n",
              "</style>\n",
              "\n",
              "  <script>\n",
              "    async function quickchart(key) {\n",
              "      const quickchartButtonEl =\n",
              "        document.querySelector('#' + key + ' button');\n",
              "      quickchartButtonEl.disabled = true;  // To prevent multiple clicks.\n",
              "      quickchartButtonEl.classList.add('colab-df-spinner');\n",
              "      try {\n",
              "        const charts = await google.colab.kernel.invokeFunction(\n",
              "            'suggestCharts', [key], {});\n",
              "      } catch (error) {\n",
              "        console.error('Error during call to suggestCharts:', error);\n",
              "      }\n",
              "      quickchartButtonEl.classList.remove('colab-df-spinner');\n",
              "      quickchartButtonEl.classList.add('colab-df-quickchart-complete');\n",
              "    }\n",
              "    (() => {\n",
              "      let quickchartButtonEl =\n",
              "        document.querySelector('#df-eca09095-a6d4-4c2c-97d5-b8f3fcbbe52c button');\n",
              "      quickchartButtonEl.style.display =\n",
              "        google.colab.kernel.accessAllowed ? 'block' : 'none';\n",
              "    })();\n",
              "  </script>\n",
              "</div>\n",
              "    </div>\n",
              "  </div>\n"
            ]
          },
          "metadata": {},
          "execution_count": 38
        }
      ]
    },
    {
      "cell_type": "code",
      "source": [
        "store_data.describe()    #summary statistics for store data"
      ],
      "metadata": {
        "colab": {
          "base_uri": "https://localhost:8080/",
          "height": 300
        },
        "id": "d1OQZ0ssMeGa",
        "outputId": "65650abb-98c1-465c-e623-4fadf6bfffdd"
      },
      "execution_count": 39,
      "outputs": [
        {
          "output_type": "execute_result",
          "data": {
            "text/plain": [
              "            Store  CompetitionDistance  CompetitionOpenSinceMonth  \\\n",
              "count  1115.00000          1112.000000                 761.000000   \n",
              "mean    558.00000          5404.901079                   7.224704   \n",
              "std     322.01708          7663.174720                   3.212348   \n",
              "min       1.00000            20.000000                   1.000000   \n",
              "25%     279.50000           717.500000                   4.000000   \n",
              "50%     558.00000          2325.000000                   8.000000   \n",
              "75%     836.50000          6882.500000                  10.000000   \n",
              "max    1115.00000         75860.000000                  12.000000   \n",
              "\n",
              "       CompetitionOpenSinceYear       Promo2  Promo2SinceWeek  Promo2SinceYear  \n",
              "count                761.000000  1115.000000       571.000000       571.000000  \n",
              "mean                2008.668857     0.512108        23.595447      2011.763573  \n",
              "std                    6.195983     0.500078        14.141984         1.674935  \n",
              "min                 1900.000000     0.000000         1.000000      2009.000000  \n",
              "25%                 2006.000000     0.000000        13.000000      2011.000000  \n",
              "50%                 2010.000000     1.000000        22.000000      2012.000000  \n",
              "75%                 2013.000000     1.000000        37.000000      2013.000000  \n",
              "max                 2015.000000     1.000000        50.000000      2015.000000  "
            ],
            "text/html": [
              "\n",
              "  <div id=\"df-5ace0bde-3e0d-4b59-981e-543d8ef30c0f\" class=\"colab-df-container\">\n",
              "    <div>\n",
              "<style scoped>\n",
              "    .dataframe tbody tr th:only-of-type {\n",
              "        vertical-align: middle;\n",
              "    }\n",
              "\n",
              "    .dataframe tbody tr th {\n",
              "        vertical-align: top;\n",
              "    }\n",
              "\n",
              "    .dataframe thead th {\n",
              "        text-align: right;\n",
              "    }\n",
              "</style>\n",
              "<table border=\"1\" class=\"dataframe\">\n",
              "  <thead>\n",
              "    <tr style=\"text-align: right;\">\n",
              "      <th></th>\n",
              "      <th>Store</th>\n",
              "      <th>CompetitionDistance</th>\n",
              "      <th>CompetitionOpenSinceMonth</th>\n",
              "      <th>CompetitionOpenSinceYear</th>\n",
              "      <th>Promo2</th>\n",
              "      <th>Promo2SinceWeek</th>\n",
              "      <th>Promo2SinceYear</th>\n",
              "    </tr>\n",
              "  </thead>\n",
              "  <tbody>\n",
              "    <tr>\n",
              "      <th>count</th>\n",
              "      <td>1115.00000</td>\n",
              "      <td>1112.000000</td>\n",
              "      <td>761.000000</td>\n",
              "      <td>761.000000</td>\n",
              "      <td>1115.000000</td>\n",
              "      <td>571.000000</td>\n",
              "      <td>571.000000</td>\n",
              "    </tr>\n",
              "    <tr>\n",
              "      <th>mean</th>\n",
              "      <td>558.00000</td>\n",
              "      <td>5404.901079</td>\n",
              "      <td>7.224704</td>\n",
              "      <td>2008.668857</td>\n",
              "      <td>0.512108</td>\n",
              "      <td>23.595447</td>\n",
              "      <td>2011.763573</td>\n",
              "    </tr>\n",
              "    <tr>\n",
              "      <th>std</th>\n",
              "      <td>322.01708</td>\n",
              "      <td>7663.174720</td>\n",
              "      <td>3.212348</td>\n",
              "      <td>6.195983</td>\n",
              "      <td>0.500078</td>\n",
              "      <td>14.141984</td>\n",
              "      <td>1.674935</td>\n",
              "    </tr>\n",
              "    <tr>\n",
              "      <th>min</th>\n",
              "      <td>1.00000</td>\n",
              "      <td>20.000000</td>\n",
              "      <td>1.000000</td>\n",
              "      <td>1900.000000</td>\n",
              "      <td>0.000000</td>\n",
              "      <td>1.000000</td>\n",
              "      <td>2009.000000</td>\n",
              "    </tr>\n",
              "    <tr>\n",
              "      <th>25%</th>\n",
              "      <td>279.50000</td>\n",
              "      <td>717.500000</td>\n",
              "      <td>4.000000</td>\n",
              "      <td>2006.000000</td>\n",
              "      <td>0.000000</td>\n",
              "      <td>13.000000</td>\n",
              "      <td>2011.000000</td>\n",
              "    </tr>\n",
              "    <tr>\n",
              "      <th>50%</th>\n",
              "      <td>558.00000</td>\n",
              "      <td>2325.000000</td>\n",
              "      <td>8.000000</td>\n",
              "      <td>2010.000000</td>\n",
              "      <td>1.000000</td>\n",
              "      <td>22.000000</td>\n",
              "      <td>2012.000000</td>\n",
              "    </tr>\n",
              "    <tr>\n",
              "      <th>75%</th>\n",
              "      <td>836.50000</td>\n",
              "      <td>6882.500000</td>\n",
              "      <td>10.000000</td>\n",
              "      <td>2013.000000</td>\n",
              "      <td>1.000000</td>\n",
              "      <td>37.000000</td>\n",
              "      <td>2013.000000</td>\n",
              "    </tr>\n",
              "    <tr>\n",
              "      <th>max</th>\n",
              "      <td>1115.00000</td>\n",
              "      <td>75860.000000</td>\n",
              "      <td>12.000000</td>\n",
              "      <td>2015.000000</td>\n",
              "      <td>1.000000</td>\n",
              "      <td>50.000000</td>\n",
              "      <td>2015.000000</td>\n",
              "    </tr>\n",
              "  </tbody>\n",
              "</table>\n",
              "</div>\n",
              "    <div class=\"colab-df-buttons\">\n",
              "\n",
              "  <div class=\"colab-df-container\">\n",
              "    <button class=\"colab-df-convert\" onclick=\"convertToInteractive('df-5ace0bde-3e0d-4b59-981e-543d8ef30c0f')\"\n",
              "            title=\"Convert this dataframe to an interactive table.\"\n",
              "            style=\"display:none;\">\n",
              "\n",
              "  <svg xmlns=\"http://www.w3.org/2000/svg\" height=\"24px\" viewBox=\"0 -960 960 960\">\n",
              "    <path d=\"M120-120v-720h720v720H120Zm60-500h600v-160H180v160Zm220 220h160v-160H400v160Zm0 220h160v-160H400v160ZM180-400h160v-160H180v160Zm440 0h160v-160H620v160ZM180-180h160v-160H180v160Zm440 0h160v-160H620v160Z\"/>\n",
              "  </svg>\n",
              "    </button>\n",
              "\n",
              "  <style>\n",
              "    .colab-df-container {\n",
              "      display:flex;\n",
              "      gap: 12px;\n",
              "    }\n",
              "\n",
              "    .colab-df-convert {\n",
              "      background-color: #E8F0FE;\n",
              "      border: none;\n",
              "      border-radius: 50%;\n",
              "      cursor: pointer;\n",
              "      display: none;\n",
              "      fill: #1967D2;\n",
              "      height: 32px;\n",
              "      padding: 0 0 0 0;\n",
              "      width: 32px;\n",
              "    }\n",
              "\n",
              "    .colab-df-convert:hover {\n",
              "      background-color: #E2EBFA;\n",
              "      box-shadow: 0px 1px 2px rgba(60, 64, 67, 0.3), 0px 1px 3px 1px rgba(60, 64, 67, 0.15);\n",
              "      fill: #174EA6;\n",
              "    }\n",
              "\n",
              "    .colab-df-buttons div {\n",
              "      margin-bottom: 4px;\n",
              "    }\n",
              "\n",
              "    [theme=dark] .colab-df-convert {\n",
              "      background-color: #3B4455;\n",
              "      fill: #D2E3FC;\n",
              "    }\n",
              "\n",
              "    [theme=dark] .colab-df-convert:hover {\n",
              "      background-color: #434B5C;\n",
              "      box-shadow: 0px 1px 3px 1px rgba(0, 0, 0, 0.15);\n",
              "      filter: drop-shadow(0px 1px 2px rgba(0, 0, 0, 0.3));\n",
              "      fill: #FFFFFF;\n",
              "    }\n",
              "  </style>\n",
              "\n",
              "    <script>\n",
              "      const buttonEl =\n",
              "        document.querySelector('#df-5ace0bde-3e0d-4b59-981e-543d8ef30c0f button.colab-df-convert');\n",
              "      buttonEl.style.display =\n",
              "        google.colab.kernel.accessAllowed ? 'block' : 'none';\n",
              "\n",
              "      async function convertToInteractive(key) {\n",
              "        const element = document.querySelector('#df-5ace0bde-3e0d-4b59-981e-543d8ef30c0f');\n",
              "        const dataTable =\n",
              "          await google.colab.kernel.invokeFunction('convertToInteractive',\n",
              "                                                    [key], {});\n",
              "        if (!dataTable) return;\n",
              "\n",
              "        const docLinkHtml = 'Like what you see? Visit the ' +\n",
              "          '<a target=\"_blank\" href=https://colab.research.google.com/notebooks/data_table.ipynb>data table notebook</a>'\n",
              "          + ' to learn more about interactive tables.';\n",
              "        element.innerHTML = '';\n",
              "        dataTable['output_type'] = 'display_data';\n",
              "        await google.colab.output.renderOutput(dataTable, element);\n",
              "        const docLink = document.createElement('div');\n",
              "        docLink.innerHTML = docLinkHtml;\n",
              "        element.appendChild(docLink);\n",
              "      }\n",
              "    </script>\n",
              "  </div>\n",
              "\n",
              "\n",
              "<div id=\"df-a5a224cf-9a44-44e4-aa4f-e085afb9708e\">\n",
              "  <button class=\"colab-df-quickchart\" onclick=\"quickchart('df-a5a224cf-9a44-44e4-aa4f-e085afb9708e')\"\n",
              "            title=\"Suggest charts\"\n",
              "            style=\"display:none;\">\n",
              "\n",
              "<svg xmlns=\"http://www.w3.org/2000/svg\" height=\"24px\"viewBox=\"0 0 24 24\"\n",
              "     width=\"24px\">\n",
              "    <g>\n",
              "        <path d=\"M19 3H5c-1.1 0-2 .9-2 2v14c0 1.1.9 2 2 2h14c1.1 0 2-.9 2-2V5c0-1.1-.9-2-2-2zM9 17H7v-7h2v7zm4 0h-2V7h2v10zm4 0h-2v-4h2v4z\"/>\n",
              "    </g>\n",
              "</svg>\n",
              "  </button>\n",
              "\n",
              "<style>\n",
              "  .colab-df-quickchart {\n",
              "      --bg-color: #E8F0FE;\n",
              "      --fill-color: #1967D2;\n",
              "      --hover-bg-color: #E2EBFA;\n",
              "      --hover-fill-color: #174EA6;\n",
              "      --disabled-fill-color: #AAA;\n",
              "      --disabled-bg-color: #DDD;\n",
              "  }\n",
              "\n",
              "  [theme=dark] .colab-df-quickchart {\n",
              "      --bg-color: #3B4455;\n",
              "      --fill-color: #D2E3FC;\n",
              "      --hover-bg-color: #434B5C;\n",
              "      --hover-fill-color: #FFFFFF;\n",
              "      --disabled-bg-color: #3B4455;\n",
              "      --disabled-fill-color: #666;\n",
              "  }\n",
              "\n",
              "  .colab-df-quickchart {\n",
              "    background-color: var(--bg-color);\n",
              "    border: none;\n",
              "    border-radius: 50%;\n",
              "    cursor: pointer;\n",
              "    display: none;\n",
              "    fill: var(--fill-color);\n",
              "    height: 32px;\n",
              "    padding: 0;\n",
              "    width: 32px;\n",
              "  }\n",
              "\n",
              "  .colab-df-quickchart:hover {\n",
              "    background-color: var(--hover-bg-color);\n",
              "    box-shadow: 0 1px 2px rgba(60, 64, 67, 0.3), 0 1px 3px 1px rgba(60, 64, 67, 0.15);\n",
              "    fill: var(--button-hover-fill-color);\n",
              "  }\n",
              "\n",
              "  .colab-df-quickchart-complete:disabled,\n",
              "  .colab-df-quickchart-complete:disabled:hover {\n",
              "    background-color: var(--disabled-bg-color);\n",
              "    fill: var(--disabled-fill-color);\n",
              "    box-shadow: none;\n",
              "  }\n",
              "\n",
              "  .colab-df-spinner {\n",
              "    border: 2px solid var(--fill-color);\n",
              "    border-color: transparent;\n",
              "    border-bottom-color: var(--fill-color);\n",
              "    animation:\n",
              "      spin 1s steps(1) infinite;\n",
              "  }\n",
              "\n",
              "  @keyframes spin {\n",
              "    0% {\n",
              "      border-color: transparent;\n",
              "      border-bottom-color: var(--fill-color);\n",
              "      border-left-color: var(--fill-color);\n",
              "    }\n",
              "    20% {\n",
              "      border-color: transparent;\n",
              "      border-left-color: var(--fill-color);\n",
              "      border-top-color: var(--fill-color);\n",
              "    }\n",
              "    30% {\n",
              "      border-color: transparent;\n",
              "      border-left-color: var(--fill-color);\n",
              "      border-top-color: var(--fill-color);\n",
              "      border-right-color: var(--fill-color);\n",
              "    }\n",
              "    40% {\n",
              "      border-color: transparent;\n",
              "      border-right-color: var(--fill-color);\n",
              "      border-top-color: var(--fill-color);\n",
              "    }\n",
              "    60% {\n",
              "      border-color: transparent;\n",
              "      border-right-color: var(--fill-color);\n",
              "    }\n",
              "    80% {\n",
              "      border-color: transparent;\n",
              "      border-right-color: var(--fill-color);\n",
              "      border-bottom-color: var(--fill-color);\n",
              "    }\n",
              "    90% {\n",
              "      border-color: transparent;\n",
              "      border-bottom-color: var(--fill-color);\n",
              "    }\n",
              "  }\n",
              "</style>\n",
              "\n",
              "  <script>\n",
              "    async function quickchart(key) {\n",
              "      const quickchartButtonEl =\n",
              "        document.querySelector('#' + key + ' button');\n",
              "      quickchartButtonEl.disabled = true;  // To prevent multiple clicks.\n",
              "      quickchartButtonEl.classList.add('colab-df-spinner');\n",
              "      try {\n",
              "        const charts = await google.colab.kernel.invokeFunction(\n",
              "            'suggestCharts', [key], {});\n",
              "      } catch (error) {\n",
              "        console.error('Error during call to suggestCharts:', error);\n",
              "      }\n",
              "      quickchartButtonEl.classList.remove('colab-df-spinner');\n",
              "      quickchartButtonEl.classList.add('colab-df-quickchart-complete');\n",
              "    }\n",
              "    (() => {\n",
              "      let quickchartButtonEl =\n",
              "        document.querySelector('#df-a5a224cf-9a44-44e4-aa4f-e085afb9708e button');\n",
              "      quickchartButtonEl.style.display =\n",
              "        google.colab.kernel.accessAllowed ? 'block' : 'none';\n",
              "    })();\n",
              "  </script>\n",
              "</div>\n",
              "    </div>\n",
              "  </div>\n"
            ]
          },
          "metadata": {},
          "execution_count": 39
        }
      ]
    },
    {
      "cell_type": "markdown",
      "source": [
        "#### Duplicate Values"
      ],
      "metadata": {
        "id": "35m5QtbWiB9F"
      }
    },
    {
      "cell_type": "code",
      "source": [
        "# Dataset Duplicate Value Count\n",
        "rossmann_duplicates = rossmann_data.duplicated().sum()\n",
        "store_duplicates = store_data.duplicated().sum()\n",
        "\n",
        "# Display the number of duplicates\n",
        "print('Number of duplicate rows in Rossmann Stores Data:', rossmann_duplicates)\n",
        "print('Number of duplicate rows in Store Data:', store_duplicates)"
      ],
      "metadata": {
        "id": "1sLdpKYkmox0",
        "colab": {
          "base_uri": "https://localhost:8080/"
        },
        "outputId": "4fe73b66-cb01-40f3-d998-c2a84dbf0ccd"
      },
      "execution_count": 40,
      "outputs": [
        {
          "output_type": "stream",
          "name": "stdout",
          "text": [
            "Number of duplicate rows in Rossmann Stores Data: 0\n",
            "Number of duplicate rows in Store Data: 0\n"
          ]
        }
      ]
    },
    {
      "cell_type": "markdown",
      "source": [
        "**There are no duplicate rows in either the Rossmann Stores Data or the Store Data.**"
      ],
      "metadata": {
        "id": "ngQ2aDjJdHKO"
      }
    },
    {
      "cell_type": "markdown",
      "source": [
        "#### Missing Values/Null Values"
      ],
      "metadata": {
        "id": "PoPl-ycgm1ru"
      }
    },
    {
      "cell_type": "code",
      "source": [
        "# Missing Values/Null Values Count\n",
        "rossmann_data.isnull().sum()"
      ],
      "metadata": {
        "id": "GgHWkxvamxVg",
        "colab": {
          "base_uri": "https://localhost:8080/"
        },
        "outputId": "91827b71-4264-4eeb-864d-b41387ec612d"
      },
      "execution_count": 44,
      "outputs": [
        {
          "output_type": "execute_result",
          "data": {
            "text/plain": [
              "Store            0\n",
              "DayOfWeek        0\n",
              "Date             0\n",
              "Sales            0\n",
              "Customers        0\n",
              "Open             0\n",
              "Promo            0\n",
              "StateHoliday     0\n",
              "SchoolHoliday    0\n",
              "dtype: int64"
            ]
          },
          "metadata": {},
          "execution_count": 44
        }
      ]
    },
    {
      "cell_type": "code",
      "source": [
        "store_data.isnull().sum()"
      ],
      "metadata": {
        "colab": {
          "base_uri": "https://localhost:8080/"
        },
        "id": "OJqisaHTdVCH",
        "outputId": "a8f2266a-2109-4907-a6fe-2c545e43377f"
      },
      "execution_count": 42,
      "outputs": [
        {
          "output_type": "execute_result",
          "data": {
            "text/plain": [
              "Store                          0\n",
              "StoreType                      0\n",
              "Assortment                     0\n",
              "CompetitionDistance            3\n",
              "CompetitionOpenSinceMonth    354\n",
              "CompetitionOpenSinceYear     354\n",
              "Promo2                         0\n",
              "Promo2SinceWeek              544\n",
              "Promo2SinceYear              544\n",
              "PromoInterval                544\n",
              "dtype: int64"
            ]
          },
          "metadata": {},
          "execution_count": 42
        }
      ]
    },
    {
      "cell_type": "markdown",
      "source": [
        "**The Rossmann Stores Data does not have any missing values across its columns. However, the Store Data has some missing values**"
      ],
      "metadata": {
        "id": "z6qdwEsbeb2_"
      }
    },
    {
      "cell_type": "code",
      "source": [
        "# Visualizing the missing values\n",
        "# Calculate the percentage of missing values for each column\n",
        "store_missing_percentage = store_data.isnull().mean() * 100\n",
        "\n",
        "# Create a bar plot for the missing values percentage\n",
        "plt.figure(figsize=(10, 7))\n",
        "sns.barplot(x=store_missing_percentage.index, y=store_missing_percentage.values)\n",
        "plt.title('Percentage of Missing Values in Store Data')\n",
        "plt.ylabel('Percentage')\n",
        "plt.xticks(rotation=90)\n",
        "\n",
        "# Adding annotations on top of the bars\n",
        "for index, value in enumerate(store_missing_percentage.values):\n",
        "    if value > 0: # Only annotate bars with missing values\n",
        "        plt.text(index, value, f'{value:.2f}%', ha='center')\n",
        "plt.tight_layout()\n",
        "plt.show()"
      ],
      "metadata": {
        "id": "3q5wnI3om9sJ",
        "colab": {
          "base_uri": "https://localhost:8080/",
          "height": 701
        },
        "outputId": "7d1fc7ed-45e1-47c2-c327-f4e4d4da4c74"
      },
      "execution_count": 74,
      "outputs": [
        {
          "output_type": "display_data",
          "data": {
            "text/plain": [
              "<Figure size 1000x700 with 1 Axes>"
            ],
            "image/png": "[encoded data removed]"
          },
          "metadata": {}
        }
      ]
    },
    {
      "cell_type": "markdown",
      "source": [
        "### What did you know about your dataset?"
      ],
      "metadata": {
        "id": "H0kj-8xxnORC"
      }
    },
    {
      "cell_type": "markdown",
      "source": [
        "Based on the analysis conducted so far on the Rossmann Stores Data and the Store Data, here's a summary of key insights:\n",
        "\n",
        "**Data Completeness**\n",
        " * The Rossmann Stores Data is complete with no missing values. The Store Data, however, has missing values in several columns related to competition and promotions.\n",
        "\n",
        "**Duplicates:**\n",
        " * There are no duplicate rows in either dataset, indicating that each entry is unique.\n",
        "\n",
        "**Missing Values Visualization:**\n",
        " * The annotated bar plot for the Store Data indicates that some columns have a significant percentage of missing values, particularly \"CompetitionOpenSinceMonth\" and \"CompetitionOpenSinceYear\".\n",
        "\n",
        "These insights provide a foundational understanding of the datasets' structure and integrity, which is crucial for any further analysis or predictive modeling."
      ],
      "metadata": {
        "id": "gfoNAAC-nUe_"
      }
    },
    {
      "cell_type": "markdown",
      "source": [
        "## ***2. Understanding Your Variables***"
      ],
      "metadata": {
        "id": "nA9Y7ga8ng1Z"
      }
    },
    {
      "cell_type": "code",
      "source": [
        "# Dataset Columns"
      ],
      "metadata": {
        "id": "j7xfkqrt5Ag5"
      },
      "execution_count": null,
      "outputs": []
    },
    {
      "cell_type": "code",
      "source": [
        "# Dataset Describe"
      ],
      "metadata": {
        "id": "DnOaZdaE5Q5t"
      },
      "execution_count": null,
      "outputs": []
    },
    {
      "cell_type": "markdown",
      "source": [
        "### Variables Description"
      ],
      "metadata": {
        "id": "PBTbrJXOngz2"
      }
    },
    {
      "cell_type": "markdown",
      "source": [
        "Answer Here"
      ],
      "metadata": {
        "id": "aJV4KIxSnxay"
      }
    },
    {
      "cell_type": "markdown",
      "source": [
        "### Check Unique Values for each variable."
      ],
      "metadata": {
        "id": "u3PMJOP6ngxN"
      }
    },
    {
      "cell_type": "code",
      "source": [
        "# Check Unique Values for each variable."
      ],
      "metadata": {
        "id": "zms12Yq5n-jE"
      },
      "execution_count": null,
      "outputs": []
    },
    {
      "cell_type": "markdown",
      "source": [
        "## 3. ***Data Wrangling***"
      ],
      "metadata": {
        "id": "dauF4eBmngu3"
      }
    },
    {
      "cell_type": "markdown",
      "source": [
        "### Data Wrangling Code"
      ],
      "metadata": {
        "id": "bKJF3rekwFvQ"
      }
    },
    {
      "cell_type": "code",
      "source": [
        "# Write your code to make your dataset analysis ready."
      ],
      "metadata": {
        "id": "wk-9a2fpoLcV"
      },
      "execution_count": null,
      "outputs": []
    },
    {
      "cell_type": "markdown",
      "source": [
        "### What all manipulations have you done and insights you found?"
      ],
      "metadata": {
        "id": "MSa1f5Uengrz"
      }
    },
    {
      "cell_type": "markdown",
      "source": [
        "Answer Here."
      ],
      "metadata": {
        "id": "LbyXE7I1olp8"
      }
    },
    {
      "cell_type": "markdown",
      "source": [
        "## ***4. Data Vizualization, Storytelling & Experimenting with charts : Understand the relationships between variables***"
      ],
      "metadata": {
        "id": "GF8Ens_Soomf"
      }
    },
    {
      "cell_type": "markdown",
      "source": [
        "#### Chart - 1"
      ],
      "metadata": {
        "id": "0wOQAZs5pc--"
      }
    },
    {
      "cell_type": "code",
      "source": [
        "# Chart - 1 visualization code"
      ],
      "metadata": {
        "id": "7v_ESjsspbW7"
      },
      "execution_count": null,
      "outputs": []
    },
    {
      "cell_type": "markdown",
      "source": [
        "##### 1. Why did you pick the specific chart?"
      ],
      "metadata": {
        "id": "K5QZ13OEpz2H"
      }
    },
    {
      "cell_type": "markdown",
      "source": [
        "Answer Here."
      ],
      "metadata": {
        "id": "XESiWehPqBRc"
      }
    },
    {
      "cell_type": "markdown",
      "source": [
        "##### 2. What is/are the insight(s) found from the chart?"
      ],
      "metadata": {
        "id": "lQ7QKXXCp7Bj"
      }
    },
    {
      "cell_type": "markdown",
      "source": [
        "Answer Here"
      ],
      "metadata": {
        "id": "C_j1G7yiqdRP"
      }
    },
    {
      "cell_type": "markdown",
      "source": [
        "##### 3. Will the gained insights help creating a positive business impact?\n",
        "Are there any insights that lead to negative growth? Justify with specific reason."
      ],
      "metadata": {
        "id": "448CDAPjqfQr"
      }
    },
    {
      "cell_type": "markdown",
      "source": [
        "Answer Here"
      ],
      "metadata": {
        "id": "3cspy4FjqxJW"
      }
    },
    {
      "cell_type": "markdown",
      "source": [
        "#### Chart - 2"
      ],
      "metadata": {
        "id": "KSlN3yHqYklG"
      }
    },
    {
      "cell_type": "code",
      "source": [
        "# Chart - 2 visualization code"
      ],
      "metadata": {
        "id": "R4YgtaqtYklH"
      },
      "execution_count": null,
      "outputs": []
    },
    {
      "cell_type": "markdown",
      "source": [
        "##### 1. Why did you pick the specific chart?"
      ],
      "metadata": {
        "id": "t6dVpIINYklI"
      }
    },
    {
      "cell_type": "markdown",
      "source": [
        "Answer Here."
      ],
      "metadata": {
        "id": "5aaW0BYyYklI"
      }
    },
    {
      "cell_type": "markdown",
      "source": [
        "##### 2. What is/are the insight(s) found from the chart?"
      ],
      "metadata": {
        "id": "ijmpgYnKYklI"
      }
    },
    {
      "cell_type": "markdown",
      "source": [
        "Answer Here"
      ],
      "metadata": {
        "id": "PSx9atu2YklI"
      }
    },
    {
      "cell_type": "markdown",
      "source": [
        "##### 3. Will the gained insights help creating a positive business impact?\n",
        "Are there any insights that lead to negative growth? Justify with specific reason."
      ],
      "metadata": {
        "id": "-JiQyfWJYklI"
      }
    },
    {
      "cell_type": "markdown",
      "source": [
        "Answer Here"
      ],
      "metadata": {
        "id": "BcBbebzrYklV"
      }
    },
    {
      "cell_type": "markdown",
      "source": [
        "#### Chart - 3"
      ],
      "metadata": {
        "id": "EM7whBJCYoAo"
      }
    },
    {
      "cell_type": "code",
      "source": [
        "# Chart - 3 visualization code"
      ],
      "metadata": {
        "id": "t6GMdE67YoAp"
      },
      "execution_count": null,
      "outputs": []
    },
    {
      "cell_type": "markdown",
      "source": [
        "##### 1. Why did you pick the specific chart?"
      ],
      "metadata": {
        "id": "fge-S5ZAYoAp"
      }
    },
    {
      "cell_type": "markdown",
      "source": [
        "Answer Here."
      ],
      "metadata": {
        "id": "5dBItgRVYoAp"
      }
    },
    {
      "cell_type": "markdown",
      "source": [
        "##### 2. What is/are the insight(s) found from the chart?"
      ],
      "metadata": {
        "id": "85gYPyotYoAp"
      }
    },
    {
      "cell_type": "markdown",
      "source": [
        "Answer Here"
      ],
      "metadata": {
        "id": "4jstXR6OYoAp"
      }
    },
    {
      "cell_type": "markdown",
      "source": [
        "##### 3. Will the gained insights help creating a positive business impact?\n",
        "Are there any insights that lead to negative growth? Justify with specific reason."
      ],
      "metadata": {
        "id": "RoGjAbkUYoAp"
      }
    },
    {
      "cell_type": "markdown",
      "source": [
        "Answer Here"
      ],
      "metadata": {
        "id": "zfJ8IqMcYoAp"
      }
    },
    {
      "cell_type": "markdown",
      "source": [
        "#### Chart - 4"
      ],
      "metadata": {
        "id": "4Of9eVA-YrdM"
      }
    },
    {
      "cell_type": "code",
      "source": [
        "# Chart - 4 visualization code"
      ],
      "metadata": {
        "id": "irlUoxc8YrdO"
      },
      "execution_count": null,
      "outputs": []
    },
    {
      "cell_type": "markdown",
      "source": [
        "##### 1. Why did you pick the specific chart?"
      ],
      "metadata": {
        "id": "iky9q4vBYrdO"
      }
    },
    {
      "cell_type": "markdown",
      "source": [
        "Answer Here."
      ],
      "metadata": {
        "id": "aJRCwT6DYrdO"
      }
    },
    {
      "cell_type": "markdown",
      "source": [
        "##### 2. What is/are the insight(s) found from the chart?"
      ],
      "metadata": {
        "id": "F6T5p64dYrdO"
      }
    },
    {
      "cell_type": "markdown",
      "source": [
        "Answer Here"
      ],
      "metadata": {
        "id": "Xx8WAJvtYrdO"
      }
    },
    {
      "cell_type": "markdown",
      "source": [
        "##### 3. Will the gained insights help creating a positive business impact?\n",
        "Are there any insights that lead to negative growth? Justify with specific reason."
      ],
      "metadata": {
        "id": "y-Ehk30pYrdP"
      }
    },
    {
      "cell_type": "markdown",
      "source": [
        "Answer Here"
      ],
      "metadata": {
        "id": "jLNxxz7MYrdP"
      }
    },
    {
      "cell_type": "markdown",
      "source": [
        "#### Chart - 5"
      ],
      "metadata": {
        "id": "bamQiAODYuh1"
      }
    },
    {
      "cell_type": "code",
      "source": [
        "# Chart - 5 visualization code"
      ],
      "metadata": {
        "id": "TIJwrbroYuh3"
      },
      "execution_count": null,
      "outputs": []
    },
    {
      "cell_type": "markdown",
      "source": [
        "##### 1. Why did you pick the specific chart?"
      ],
      "metadata": {
        "id": "QHF8YVU7Yuh3"
      }
    },
    {
      "cell_type": "markdown",
      "source": [
        "Answer Here."
      ],
      "metadata": {
        "id": "dcxuIMRPYuh3"
      }
    },
    {
      "cell_type": "markdown",
      "source": [
        "##### 2. What is/are the insight(s) found from the chart?"
      ],
      "metadata": {
        "id": "GwzvFGzlYuh3"
      }
    },
    {
      "cell_type": "markdown",
      "source": [
        "Answer Here"
      ],
      "metadata": {
        "id": "uyqkiB8YYuh3"
      }
    },
    {
      "cell_type": "markdown",
      "source": [
        "##### 3. Will the gained insights help creating a positive business impact?\n",
        "Are there any insights that lead to negative growth? Justify with specific reason."
      ],
      "metadata": {
        "id": "qYpmQ266Yuh3"
      }
    },
    {
      "cell_type": "markdown",
      "source": [
        "Answer Here"
      ],
      "metadata": {
        "id": "_WtzZ_hCYuh4"
      }
    },
    {
      "cell_type": "markdown",
      "source": [
        "#### Chart - 6"
      ],
      "metadata": {
        "id": "OH-pJp9IphqM"
      }
    },
    {
      "cell_type": "code",
      "source": [
        "# Chart - 6 visualization code"
      ],
      "metadata": {
        "id": "kuRf4wtuphqN"
      },
      "execution_count": null,
      "outputs": []
    },
    {
      "cell_type": "markdown",
      "source": [
        "##### 1. Why did you pick the specific chart?"
      ],
      "metadata": {
        "id": "bbFf2-_FphqN"
      }
    },
    {
      "cell_type": "markdown",
      "source": [
        "Answer Here."
      ],
      "metadata": {
        "id": "loh7H2nzphqN"
      }
    },
    {
      "cell_type": "markdown",
      "source": [
        "##### 2. What is/are the insight(s) found from the chart?"
      ],
      "metadata": {
        "id": "_ouA3fa0phqN"
      }
    },
    {
      "cell_type": "markdown",
      "source": [
        "Answer Here"
      ],
      "metadata": {
        "id": "VECbqPI7phqN"
      }
    },
    {
      "cell_type": "markdown",
      "source": [
        "##### 3. Will the gained insights help creating a positive business impact?\n",
        "Are there any insights that lead to negative growth? Justify with specific reason."
      ],
      "metadata": {
        "id": "Seke61FWphqN"
      }
    },
    {
      "cell_type": "markdown",
      "source": [
        "Answer Here"
      ],
      "metadata": {
        "id": "DW4_bGpfphqN"
      }
    },
    {
      "cell_type": "markdown",
      "source": [
        "#### Chart - 7"
      ],
      "metadata": {
        "id": "PIIx-8_IphqN"
      }
    },
    {
      "cell_type": "code",
      "source": [
        "# Chart - 7 visualization code"
      ],
      "metadata": {
        "id": "lqAIGUfyphqO"
      },
      "execution_count": null,
      "outputs": []
    },
    {
      "cell_type": "markdown",
      "source": [
        "##### 1. Why did you pick the specific chart?"
      ],
      "metadata": {
        "id": "t27r6nlMphqO"
      }
    },
    {
      "cell_type": "markdown",
      "source": [
        "Answer Here."
      ],
      "metadata": {
        "id": "iv6ro40sphqO"
      }
    },
    {
      "cell_type": "markdown",
      "source": [
        "##### 2. What is/are the insight(s) found from the chart?"
      ],
      "metadata": {
        "id": "r2jJGEOYphqO"
      }
    },
    {
      "cell_type": "markdown",
      "source": [
        "Answer Here"
      ],
      "metadata": {
        "id": "Po6ZPi4hphqO"
      }
    },
    {
      "cell_type": "markdown",
      "source": [
        "##### 3. Will the gained insights help creating a positive business impact?\n",
        "Are there any insights that lead to negative growth? Justify with specific reason."
      ],
      "metadata": {
        "id": "b0JNsNcRphqO"
      }
    },
    {
      "cell_type": "markdown",
      "source": [
        "Answer Here"
      ],
      "metadata": {
        "id": "xvSq8iUTphqO"
      }
    },
    {
      "cell_type": "markdown",
      "source": [
        "#### Chart - 8"
      ],
      "metadata": {
        "id": "BZR9WyysphqO"
      }
    },
    {
      "cell_type": "code",
      "source": [
        "# Chart - 8 visualization code"
      ],
      "metadata": {
        "id": "TdPTWpAVphqO"
      },
      "execution_count": null,
      "outputs": []
    },
    {
      "cell_type": "markdown",
      "source": [
        "##### 1. Why did you pick the specific chart?"
      ],
      "metadata": {
        "id": "jj7wYXLtphqO"
      }
    },
    {
      "cell_type": "markdown",
      "source": [
        "Answer Here."
      ],
      "metadata": {
        "id": "Ob8u6rCTphqO"
      }
    },
    {
      "cell_type": "markdown",
      "source": [
        "##### 2. What is/are the insight(s) found from the chart?"
      ],
      "metadata": {
        "id": "eZrbJ2SmphqO"
      }
    },
    {
      "cell_type": "markdown",
      "source": [
        "Answer Here"
      ],
      "metadata": {
        "id": "mZtgC_hjphqO"
      }
    },
    {
      "cell_type": "markdown",
      "source": [
        "##### 3. Will the gained insights help creating a positive business impact?\n",
        "Are there any insights that lead to negative growth? Justify with specific reason."
      ],
      "metadata": {
        "id": "rFu4xreNphqO"
      }
    },
    {
      "cell_type": "markdown",
      "source": [
        "Answer Here"
      ],
      "metadata": {
        "id": "ey_0qi68phqO"
      }
    },
    {
      "cell_type": "markdown",
      "source": [
        "#### Chart - 9"
      ],
      "metadata": {
        "id": "YJ55k-q6phqO"
      }
    },
    {
      "cell_type": "code",
      "source": [
        "# Chart - 9 visualization code"
      ],
      "metadata": {
        "id": "B2aS4O1ophqO"
      },
      "execution_count": null,
      "outputs": []
    },
    {
      "cell_type": "markdown",
      "source": [
        "##### 1. Why did you pick the specific chart?"
      ],
      "metadata": {
        "id": "gCFgpxoyphqP"
      }
    },
    {
      "cell_type": "markdown",
      "source": [
        "Answer Here."
      ],
      "metadata": {
        "id": "TVxDimi2phqP"
      }
    },
    {
      "cell_type": "markdown",
      "source": [
        "##### 2. What is/are the insight(s) found from the chart?"
      ],
      "metadata": {
        "id": "OVtJsKN_phqQ"
      }
    },
    {
      "cell_type": "markdown",
      "source": [
        "Answer Here"
      ],
      "metadata": {
        "id": "ngGi97qjphqQ"
      }
    },
    {
      "cell_type": "markdown",
      "source": [
        "##### 3. Will the gained insights help creating a positive business impact?\n",
        "Are there any insights that lead to negative growth? Justify with specific reason."
      ],
      "metadata": {
        "id": "lssrdh5qphqQ"
      }
    },
    {
      "cell_type": "markdown",
      "source": [
        "Answer Here"
      ],
      "metadata": {
        "id": "tBpY5ekJphqQ"
      }
    },
    {
      "cell_type": "markdown",
      "source": [
        "#### Chart - 10"
      ],
      "metadata": {
        "id": "U2RJ9gkRphqQ"
      }
    },
    {
      "cell_type": "code",
      "source": [
        "# Chart - 10 visualization code"
      ],
      "metadata": {
        "id": "GM7a4YP4phqQ"
      },
      "execution_count": null,
      "outputs": []
    },
    {
      "cell_type": "markdown",
      "source": [
        "##### 1. Why did you pick the specific chart?"
      ],
      "metadata": {
        "id": "1M8mcRywphqQ"
      }
    },
    {
      "cell_type": "markdown",
      "source": [
        "Answer Here."
      ],
      "metadata": {
        "id": "8agQvks0phqQ"
      }
    },
    {
      "cell_type": "markdown",
      "source": [
        "##### 2. What is/are the insight(s) found from the chart?"
      ],
      "metadata": {
        "id": "tgIPom80phqQ"
      }
    },
    {
      "cell_type": "markdown",
      "source": [
        "Answer Here"
      ],
      "metadata": {
        "id": "Qp13pnNzphqQ"
      }
    },
    {
      "cell_type": "markdown",
      "source": [
        "##### 3. Will the gained insights help creating a positive business impact?\n",
        "Are there any insights that lead to negative growth? Justify with specific reason."
      ],
      "metadata": {
        "id": "JMzcOPDDphqR"
      }
    },
    {
      "cell_type": "markdown",
      "source": [
        "Answer Here"
      ],
      "metadata": {
        "id": "R4Ka1PC2phqR"
      }
    },
    {
      "cell_type": "markdown",
      "source": [
        "#### Chart - 11"
      ],
      "metadata": {
        "id": "x-EpHcCOp1ci"
      }
    },
    {
      "cell_type": "code",
      "source": [
        "# Chart - 11 visualization code"
      ],
      "metadata": {
        "id": "mAQTIvtqp1cj"
      },
      "execution_count": null,
      "outputs": []
    },
    {
      "cell_type": "markdown",
      "source": [
        "##### 1. Why did you pick the specific chart?"
      ],
      "metadata": {
        "id": "X_VqEhTip1ck"
      }
    },
    {
      "cell_type": "markdown",
      "source": [
        "Answer Here."
      ],
      "metadata": {
        "id": "-vsMzt_np1ck"
      }
    },
    {
      "cell_type": "markdown",
      "source": [
        "##### 2. What is/are the insight(s) found from the chart?"
      ],
      "metadata": {
        "id": "8zGJKyg5p1ck"
      }
    },
    {
      "cell_type": "markdown",
      "source": [
        "Answer Here"
      ],
      "metadata": {
        "id": "ZYdMsrqVp1ck"
      }
    },
    {
      "cell_type": "markdown",
      "source": [
        "##### 3. Will the gained insights help creating a positive business impact?\n",
        "Are there any insights that lead to negative growth? Justify with specific reason."
      ],
      "metadata": {
        "id": "PVzmfK_Ep1ck"
      }
    },
    {
      "cell_type": "markdown",
      "source": [
        "Answer Here"
      ],
      "metadata": {
        "id": "druuKYZpp1ck"
      }
    },
    {
      "cell_type": "markdown",
      "source": [
        "#### Chart - 12"
      ],
      "metadata": {
        "id": "n3dbpmDWp1ck"
      }
    },
    {
      "cell_type": "code",
      "source": [
        "# Chart - 12 visualization code"
      ],
      "metadata": {
        "id": "bwevp1tKp1ck"
      },
      "execution_count": null,
      "outputs": []
    },
    {
      "cell_type": "markdown",
      "source": [
        "##### 1. Why did you pick the specific chart?"
      ],
      "metadata": {
        "id": "ylSl6qgtp1ck"
      }
    },
    {
      "cell_type": "markdown",
      "source": [
        "Answer Here."
      ],
      "metadata": {
        "id": "m2xqNkiQp1ck"
      }
    },
    {
      "cell_type": "markdown",
      "source": [
        "##### 2. What is/are the insight(s) found from the chart?"
      ],
      "metadata": {
        "id": "ZWILFDl5p1ck"
      }
    },
    {
      "cell_type": "markdown",
      "source": [
        "Answer Here"
      ],
      "metadata": {
        "id": "x-lUsV2mp1ck"
      }
    },
    {
      "cell_type": "markdown",
      "source": [
        "##### 3. Will the gained insights help creating a positive business impact?\n",
        "Are there any insights that lead to negative growth? Justify with specific reason."
      ],
      "metadata": {
        "id": "M7G43BXep1ck"
      }
    },
    {
      "cell_type": "markdown",
      "source": [
        "Answer Here"
      ],
      "metadata": {
        "id": "5wwDJXsLp1cl"
      }
    },
    {
      "cell_type": "markdown",
      "source": [
        "#### Chart - 13"
      ],
      "metadata": {
        "id": "Ag9LCva-p1cl"
      }
    },
    {
      "cell_type": "code",
      "source": [
        "# Chart - 13 visualization code"
      ],
      "metadata": {
        "id": "EUfxeq9-p1cl"
      },
      "execution_count": null,
      "outputs": []
    },
    {
      "cell_type": "markdown",
      "source": [
        "##### 1. Why did you pick the specific chart?"
      ],
      "metadata": {
        "id": "E6MkPsBcp1cl"
      }
    },
    {
      "cell_type": "markdown",
      "source": [
        "Answer Here."
      ],
      "metadata": {
        "id": "V22bRsFWp1cl"
      }
    },
    {
      "cell_type": "markdown",
      "source": [
        "##### 2. What is/are the insight(s) found from the chart?"
      ],
      "metadata": {
        "id": "2cELzS2fp1cl"
      }
    },
    {
      "cell_type": "markdown",
      "source": [
        "Answer Here"
      ],
      "metadata": {
        "id": "ozQPc2_Ip1cl"
      }
    },
    {
      "cell_type": "markdown",
      "source": [
        "##### 3. Will the gained insights help creating a positive business impact?\n",
        "Are there any insights that lead to negative growth? Justify with specific reason."
      ],
      "metadata": {
        "id": "3MPXvC8up1cl"
      }
    },
    {
      "cell_type": "markdown",
      "source": [
        "Answer Here"
      ],
      "metadata": {
        "id": "GL8l1tdLp1cl"
      }
    },
    {
      "cell_type": "markdown",
      "source": [
        "#### Chart - 14 - Correlation Heatmap"
      ],
      "metadata": {
        "id": "NC_X3p0fY2L0"
      }
    },
    {
      "cell_type": "code",
      "source": [
        "# Correlation Heatmap visualization code"
      ],
      "metadata": {
        "id": "xyC9zolEZNRQ"
      },
      "execution_count": null,
      "outputs": []
    },
    {
      "cell_type": "markdown",
      "source": [
        "##### 1. Why did you pick the specific chart?"
      ],
      "metadata": {
        "id": "UV0SzAkaZNRQ"
      }
    },
    {
      "cell_type": "markdown",
      "source": [
        "Answer Here."
      ],
      "metadata": {
        "id": "DVPuT8LYZNRQ"
      }
    },
    {
      "cell_type": "markdown",
      "source": [
        "##### 2. What is/are the insight(s) found from the chart?"
      ],
      "metadata": {
        "id": "YPEH6qLeZNRQ"
      }
    },
    {
      "cell_type": "markdown",
      "source": [
        "Answer Here"
      ],
      "metadata": {
        "id": "bfSqtnDqZNRR"
      }
    },
    {
      "cell_type": "markdown",
      "source": [
        "#### Chart - 15 - Pair Plot"
      ],
      "metadata": {
        "id": "q29F0dvdveiT"
      }
    },
    {
      "cell_type": "code",
      "source": [
        "# Pair Plot visualization code"
      ],
      "metadata": {
        "id": "o58-TEIhveiU"
      },
      "execution_count": null,
      "outputs": []
    },
    {
      "cell_type": "markdown",
      "source": [
        "##### 1. Why did you pick the specific chart?"
      ],
      "metadata": {
        "id": "EXh0U9oCveiU"
      }
    },
    {
      "cell_type": "markdown",
      "source": [
        "Answer Here."
      ],
      "metadata": {
        "id": "eMmPjTByveiU"
      }
    },
    {
      "cell_type": "markdown",
      "source": [
        "##### 2. What is/are the insight(s) found from the chart?"
      ],
      "metadata": {
        "id": "22aHeOlLveiV"
      }
    },
    {
      "cell_type": "markdown",
      "source": [
        "Answer Here"
      ],
      "metadata": {
        "id": "uPQ8RGwHveiV"
      }
    },
    {
      "cell_type": "markdown",
      "source": [
        "## ***5. Hypothesis Testing***"
      ],
      "metadata": {
        "id": "g-ATYxFrGrvw"
      }
    },
    {
      "cell_type": "markdown",
      "source": [
        "### Based on your chart experiments, define three hypothetical statements from the dataset. In the next three questions, perform hypothesis testing to obtain final conclusion about the statements through your code and statistical testing."
      ],
      "metadata": {
        "id": "Yfr_Vlr8HBkt"
      }
    },
    {
      "cell_type": "markdown",
      "source": [
        "Answer Here."
      ],
      "metadata": {
        "id": "-7MS06SUHkB-"
      }
    },
    {
      "cell_type": "markdown",
      "source": [
        "### Hypothetical Statement - 1"
      ],
      "metadata": {
        "id": "8yEUt7NnHlrM"
      }
    },
    {
      "cell_type": "markdown",
      "source": [
        "#### 1. State Your research hypothesis as a null hypothesis and alternate hypothesis."
      ],
      "metadata": {
        "id": "tEA2Xm5dHt1r"
      }
    },
    {
      "cell_type": "markdown",
      "source": [
        "Answer Here."
      ],
      "metadata": {
        "id": "HI9ZP0laH0D-"
      }
    },
    {
      "cell_type": "markdown",
      "source": [
        "#### 2. Perform an appropriate statistical test."
      ],
      "metadata": {
        "id": "I79__PHVH19G"
      }
    },
    {
      "cell_type": "code",
      "source": [
        "# Perform Statistical Test to obtain P-Value"
      ],
      "metadata": {
        "id": "oZrfquKtyian"
      },
      "execution_count": null,
      "outputs": []
    },
    {
      "cell_type": "markdown",
      "source": [
        "##### Which statistical test have you done to obtain P-Value?"
      ],
      "metadata": {
        "id": "Ou-I18pAyIpj"
      }
    },
    {
      "cell_type": "markdown",
      "source": [
        "Answer Here."
      ],
      "metadata": {
        "id": "s2U0kk00ygSB"
      }
    },
    {
      "cell_type": "markdown",
      "source": [
        "##### Why did you choose the specific statistical test?"
      ],
      "metadata": {
        "id": "fF3858GYyt-u"
      }
    },
    {
      "cell_type": "markdown",
      "source": [
        "Answer Here."
      ],
      "metadata": {
        "id": "HO4K0gP5y3B4"
      }
    },
    {
      "cell_type": "markdown",
      "source": [
        "### Hypothetical Statement - 2"
      ],
      "metadata": {
        "id": "4_0_7-oCpUZd"
      }
    },
    {
      "cell_type": "markdown",
      "source": [
        "#### 1. State Your research hypothesis as a null hypothesis and alternate hypothesis."
      ],
      "metadata": {
        "id": "hwyV_J3ipUZe"
      }
    },
    {
      "cell_type": "markdown",
      "source": [
        "Answer Here."
      ],
      "metadata": {
        "id": "FnpLGJ-4pUZe"
      }
    },
    {
      "cell_type": "markdown",
      "source": [
        "#### 2. Perform an appropriate statistical test."
      ],
      "metadata": {
        "id": "3yB-zSqbpUZe"
      }
    },
    {
      "cell_type": "code",
      "source": [
        "# Perform Statistical Test to obtain P-Value"
      ],
      "metadata": {
        "id": "sWxdNTXNpUZe"
      },
      "execution_count": null,
      "outputs": []
    },
    {
      "cell_type": "markdown",
      "source": [
        "##### Which statistical test have you done to obtain P-Value?"
      ],
      "metadata": {
        "id": "dEUvejAfpUZe"
      }
    },
    {
      "cell_type": "markdown",
      "source": [
        "Answer Here."
      ],
      "metadata": {
        "id": "oLDrPz7HpUZf"
      }
    },
    {
      "cell_type": "markdown",
      "source": [
        "##### Why did you choose the specific statistical test?"
      ],
      "metadata": {
        "id": "Fd15vwWVpUZf"
      }
    },
    {
      "cell_type": "markdown",
      "source": [
        "Answer Here."
      ],
      "metadata": {
        "id": "4xOGYyiBpUZf"
      }
    },
    {
      "cell_type": "markdown",
      "source": [
        "### Hypothetical Statement - 3"
      ],
      "metadata": {
        "id": "bn_IUdTipZyH"
      }
    },
    {
      "cell_type": "markdown",
      "source": [
        "#### 1. State Your research hypothesis as a null hypothesis and alternate hypothesis."
      ],
      "metadata": {
        "id": "49K5P_iCpZyH"
      }
    },
    {
      "cell_type": "markdown",
      "source": [
        "Answer Here."
      ],
      "metadata": {
        "id": "7gWI5rT9pZyH"
      }
    },
    {
      "cell_type": "markdown",
      "source": [
        "#### 2. Perform an appropriate statistical test."
      ],
      "metadata": {
        "id": "Nff-vKELpZyI"
      }
    },
    {
      "cell_type": "code",
      "source": [
        "# Perform Statistical Test to obtain P-Value"
      ],
      "metadata": {
        "id": "s6AnJQjtpZyI"
      },
      "execution_count": null,
      "outputs": []
    },
    {
      "cell_type": "markdown",
      "source": [
        "##### Which statistical test have you done to obtain P-Value?"
      ],
      "metadata": {
        "id": "kLW572S8pZyI"
      }
    },
    {
      "cell_type": "markdown",
      "source": [
        "Answer Here."
      ],
      "metadata": {
        "id": "ytWJ8v15pZyI"
      }
    },
    {
      "cell_type": "markdown",
      "source": [
        "##### Why did you choose the specific statistical test?"
      ],
      "metadata": {
        "id": "dWbDXHzopZyI"
      }
    },
    {
      "cell_type": "markdown",
      "source": [
        "Answer Here."
      ],
      "metadata": {
        "id": "M99G98V6pZyI"
      }
    },
    {
      "cell_type": "markdown",
      "source": [
        "## ***6. Feature Engineering & Data Pre-processing***"
      ],
      "metadata": {
        "id": "yLjJCtPM0KBk"
      }
    },
    {
      "cell_type": "markdown",
      "source": [
        "### 1. Handling Missing Values"
      ],
      "metadata": {
        "id": "xiyOF9F70UgQ"
      }
    },
    {
      "cell_type": "code",
      "source": [
        "# Handling Missing Values & Missing Value Imputation"
      ],
      "metadata": {
        "id": "iRsAHk1K0fpS"
      },
      "execution_count": null,
      "outputs": []
    },
    {
      "cell_type": "markdown",
      "source": [
        "#### What all missing value imputation techniques have you used and why did you use those techniques?"
      ],
      "metadata": {
        "id": "7wuGOrhz0itI"
      }
    },
    {
      "cell_type": "markdown",
      "source": [
        "Answer Here."
      ],
      "metadata": {
        "id": "1ixusLtI0pqI"
      }
    },
    {
      "cell_type": "markdown",
      "source": [
        "### 2. Handling Outliers"
      ],
      "metadata": {
        "id": "id1riN9m0vUs"
      }
    },
    {
      "cell_type": "code",
      "source": [
        "# Handling Outliers & Outlier treatments"
      ],
      "metadata": {
        "id": "M6w2CzZf04JK"
      },
      "execution_count": null,
      "outputs": []
    },
    {
      "cell_type": "markdown",
      "source": [
        "##### What all outlier treatment techniques have you used and why did you use those techniques?"
      ],
      "metadata": {
        "id": "578E2V7j08f6"
      }
    },
    {
      "cell_type": "markdown",
      "source": [
        "Answer Here."
      ],
      "metadata": {
        "id": "uGZz5OrT1HH-"
      }
    },
    {
      "cell_type": "markdown",
      "source": [
        "### 3. Categorical Encoding"
      ],
      "metadata": {
        "id": "89xtkJwZ18nB"
      }
    },
    {
      "cell_type": "code",
      "source": [
        "# Encode your categorical columns"
      ],
      "metadata": {
        "id": "21JmIYMG2hEo"
      },
      "execution_count": null,
      "outputs": []
    },
    {
      "cell_type": "markdown",
      "source": [
        "#### What all categorical encoding techniques have you used & why did you use those techniques?"
      ],
      "metadata": {
        "id": "67NQN5KX2AMe"
      }
    },
    {
      "cell_type": "markdown",
      "source": [
        "Answer Here."
      ],
      "metadata": {
        "id": "UDaue5h32n_G"
      }
    },
    {
      "cell_type": "markdown",
      "source": [
        "### 4. Textual Data Preprocessing\n",
        "(It's mandatory for textual dataset i.e., NLP, Sentiment Analysis, Text Clustering etc.)"
      ],
      "metadata": {
        "id": "Iwf50b-R2tYG"
      }
    },
    {
      "cell_type": "markdown",
      "source": [
        "#### 1. Expand Contraction"
      ],
      "metadata": {
        "id": "GMQiZwjn3iu7"
      }
    },
    {
      "cell_type": "code",
      "source": [
        "# Expand Contraction"
      ],
      "metadata": {
        "id": "PTouz10C3oNN"
      },
      "execution_count": null,
      "outputs": []
    },
    {
      "cell_type": "markdown",
      "source": [
        "#### 2. Lower Casing"
      ],
      "metadata": {
        "id": "WVIkgGqN3qsr"
      }
    },
    {
      "cell_type": "code",
      "source": [
        "# Lower Casing"
      ],
      "metadata": {
        "id": "88JnJ1jN3w7j"
      },
      "execution_count": null,
      "outputs": []
    },
    {
      "cell_type": "markdown",
      "source": [
        "#### 3. Removing Punctuations"
      ],
      "metadata": {
        "id": "XkPnILGE3zoT"
      }
    },
    {
      "cell_type": "code",
      "source": [
        "# Remove Punctuations"
      ],
      "metadata": {
        "id": "vqbBqNaA33c0"
      },
      "execution_count": null,
      "outputs": []
    },
    {
      "cell_type": "markdown",
      "source": [
        "#### 4. Removing URLs & Removing words and digits contain digits."
      ],
      "metadata": {
        "id": "Hlsf0x5436Go"
      }
    },
    {
      "cell_type": "code",
      "source": [
        "# Remove URLs & Remove words and digits contain digits"
      ],
      "metadata": {
        "id": "2sxKgKxu4Ip3"
      },
      "execution_count": null,
      "outputs": []
    },
    {
      "cell_type": "markdown",
      "source": [
        "#### 5. Removing Stopwords & Removing White spaces"
      ],
      "metadata": {
        "id": "mT9DMSJo4nBL"
      }
    },
    {
      "cell_type": "code",
      "source": [
        "# Remove Stopwords"
      ],
      "metadata": {
        "id": "T2LSJh154s8W"
      },
      "execution_count": null,
      "outputs": []
    },
    {
      "cell_type": "code",
      "source": [
        "# Remove White spaces"
      ],
      "metadata": {
        "id": "EgLJGffy4vm0"
      },
      "execution_count": null,
      "outputs": []
    },
    {
      "cell_type": "markdown",
      "source": [
        "#### 6. Rephrase Text"
      ],
      "metadata": {
        "id": "c49ITxTc407N"
      }
    },
    {
      "cell_type": "code",
      "source": [
        "# Rephrase Text"
      ],
      "metadata": {
        "id": "foqY80Qu48N2"
      },
      "execution_count": null,
      "outputs": []
    },
    {
      "cell_type": "markdown",
      "source": [
        "#### 7. Tokenization"
      ],
      "metadata": {
        "id": "OeJFEK0N496M"
      }
    },
    {
      "cell_type": "code",
      "source": [
        "# Tokenization"
      ],
      "metadata": {
        "id": "ijx1rUOS5CUU"
      },
      "execution_count": null,
      "outputs": []
    },
    {
      "cell_type": "markdown",
      "source": [
        "#### 8. Text Normalization"
      ],
      "metadata": {
        "id": "9ExmJH0g5HBk"
      }
    },
    {
      "cell_type": "code",
      "source": [
        "# Normalizing Text (i.e., Stemming, Lemmatization etc.)"
      ],
      "metadata": {
        "id": "AIJ1a-Zc5PY8"
      },
      "execution_count": null,
      "outputs": []
    },
    {
      "cell_type": "markdown",
      "source": [
        "##### Which text normalization technique have you used and why?"
      ],
      "metadata": {
        "id": "cJNqERVU536h"
      }
    },
    {
      "cell_type": "markdown",
      "source": [
        "Answer Here."
      ],
      "metadata": {
        "id": "Z9jKVxE06BC1"
      }
    },
    {
      "cell_type": "markdown",
      "source": [
        "#### 9. Part of speech tagging"
      ],
      "metadata": {
        "id": "k5UmGsbsOxih"
      }
    },
    {
      "cell_type": "code",
      "source": [
        "# POS Taging"
      ],
      "metadata": {
        "id": "btT3ZJBAO6Ik"
      },
      "execution_count": null,
      "outputs": []
    },
    {
      "cell_type": "markdown",
      "source": [
        "#### 10. Text Vectorization"
      ],
      "metadata": {
        "id": "T0VqWOYE6DLQ"
      }
    },
    {
      "cell_type": "code",
      "source": [
        "# Vectorizing Text"
      ],
      "metadata": {
        "id": "yBRtdhth6JDE"
      },
      "execution_count": null,
      "outputs": []
    },
    {
      "cell_type": "markdown",
      "source": [
        "##### Which text vectorization technique have you used and why?"
      ],
      "metadata": {
        "id": "qBMux9mC6MCf"
      }
    },
    {
      "cell_type": "markdown",
      "source": [
        "Answer Here."
      ],
      "metadata": {
        "id": "su2EnbCh6UKQ"
      }
    },
    {
      "cell_type": "markdown",
      "source": [
        "### 4. Feature Manipulation & Selection"
      ],
      "metadata": {
        "id": "-oLEiFgy-5Pf"
      }
    },
    {
      "cell_type": "markdown",
      "source": [
        "#### 1. Feature Manipulation"
      ],
      "metadata": {
        "id": "C74aWNz2AliB"
      }
    },
    {
      "cell_type": "code",
      "source": [
        "# Manipulate Features to minimize feature correlation and create new features"
      ],
      "metadata": {
        "id": "h1qC4yhBApWC"
      },
      "execution_count": null,
      "outputs": []
    },
    {
      "cell_type": "markdown",
      "source": [
        "#### 2. Feature Selection"
      ],
      "metadata": {
        "id": "2DejudWSA-a0"
      }
    },
    {
      "cell_type": "code",
      "source": [
        "# Select your features wisely to avoid overfitting"
      ],
      "metadata": {
        "id": "YLhe8UmaBCEE"
      },
      "execution_count": null,
      "outputs": []
    },
    {
      "cell_type": "markdown",
      "source": [
        "##### What all feature selection methods have you used  and why?"
      ],
      "metadata": {
        "id": "pEMng2IbBLp7"
      }
    },
    {
      "cell_type": "markdown",
      "source": [
        "Answer Here."
      ],
      "metadata": {
        "id": "rb2Lh6Z8BgGs"
      }
    },
    {
      "cell_type": "markdown",
      "source": [
        "##### Which all features you found important and why?"
      ],
      "metadata": {
        "id": "rAdphbQ9Bhjc"
      }
    },
    {
      "cell_type": "markdown",
      "source": [
        "Answer Here."
      ],
      "metadata": {
        "id": "fGgaEstsBnaf"
      }
    },
    {
      "cell_type": "markdown",
      "source": [
        "### 5. Data Transformation"
      ],
      "metadata": {
        "id": "TNVZ9zx19K6k"
      }
    },
    {
      "cell_type": "markdown",
      "source": [
        "#### Do you think that your data needs to be transformed? If yes, which transformation have you used. Explain Why?"
      ],
      "metadata": {
        "id": "nqoHp30x9hH9"
      }
    },
    {
      "cell_type": "code",
      "source": [
        "# Transform Your data"
      ],
      "metadata": {
        "id": "I6quWQ1T9rtH"
      },
      "execution_count": null,
      "outputs": []
    },
    {
      "cell_type": "markdown",
      "source": [
        "### 6. Data Scaling"
      ],
      "metadata": {
        "id": "rMDnDkt2B6du"
      }
    },
    {
      "cell_type": "code",
      "source": [
        "# Scaling your data"
      ],
      "metadata": {
        "id": "dL9LWpySC6x_"
      },
      "execution_count": null,
      "outputs": []
    },
    {
      "cell_type": "markdown",
      "source": [
        "##### Which method have you used to scale you data and why?"
      ],
      "metadata": {
        "id": "yiiVWRdJDDil"
      }
    },
    {
      "cell_type": "markdown",
      "source": [
        "### 7. Dimesionality Reduction"
      ],
      "metadata": {
        "id": "1UUpS68QDMuG"
      }
    },
    {
      "cell_type": "markdown",
      "source": [
        "##### Do you think that dimensionality reduction is needed? Explain Why?"
      ],
      "metadata": {
        "id": "kexQrXU-DjzY"
      }
    },
    {
      "cell_type": "markdown",
      "source": [
        "Answer Here."
      ],
      "metadata": {
        "id": "GGRlBsSGDtTQ"
      }
    },
    {
      "cell_type": "code",
      "source": [
        "# DImensionality Reduction (If needed)"
      ],
      "metadata": {
        "id": "kQfvxBBHDvCa"
      },
      "execution_count": null,
      "outputs": []
    },
    {
      "cell_type": "markdown",
      "source": [
        "##### Which dimensionality reduction technique have you used and why? (If dimensionality reduction done on dataset.)"
      ],
      "metadata": {
        "id": "T5CmagL3EC8N"
      }
    },
    {
      "cell_type": "markdown",
      "source": [
        "Answer Here."
      ],
      "metadata": {
        "id": "ZKr75IDuEM7t"
      }
    },
    {
      "cell_type": "markdown",
      "source": [
        "### 8. Data Splitting"
      ],
      "metadata": {
        "id": "BhH2vgX9EjGr"
      }
    },
    {
      "cell_type": "code",
      "source": [
        "# Split your data to train and test. Choose Splitting ratio wisely."
      ],
      "metadata": {
        "id": "0CTyd2UwEyNM"
      },
      "execution_count": null,
      "outputs": []
    },
    {
      "cell_type": "markdown",
      "source": [
        "##### What data splitting ratio have you used and why?"
      ],
      "metadata": {
        "id": "qjKvONjwE8ra"
      }
    },
    {
      "cell_type": "markdown",
      "source": [
        "Answer Here."
      ],
      "metadata": {
        "id": "Y2lJ8cobFDb_"
      }
    },
    {
      "cell_type": "markdown",
      "source": [
        "### 9. Handling Imbalanced Dataset"
      ],
      "metadata": {
        "id": "P1XJ9OREExlT"
      }
    },
    {
      "cell_type": "markdown",
      "source": [
        "##### Do you think the dataset is imbalanced? Explain Why."
      ],
      "metadata": {
        "id": "VFOzZv6IFROw"
      }
    },
    {
      "cell_type": "markdown",
      "source": [
        "Answer Here."
      ],
      "metadata": {
        "id": "GeKDIv7pFgcC"
      }
    },
    {
      "cell_type": "code",
      "source": [
        "# Handling Imbalanced Dataset (If needed)"
      ],
      "metadata": {
        "id": "nQsRhhZLFiDs"
      },
      "execution_count": null,
      "outputs": []
    },
    {
      "cell_type": "markdown",
      "source": [
        "##### What technique did you use to handle the imbalance dataset and why? (If needed to be balanced)"
      ],
      "metadata": {
        "id": "TIqpNgepFxVj"
      }
    },
    {
      "cell_type": "markdown",
      "source": [
        "Answer Here."
      ],
      "metadata": {
        "id": "qbet1HwdGDTz"
      }
    },
    {
      "cell_type": "markdown",
      "source": [
        "## ***7. ML Model Implementation***"
      ],
      "metadata": {
        "id": "VfCC591jGiD4"
      }
    },
    {
      "cell_type": "markdown",
      "source": [
        "### ML Model - 1"
      ],
      "metadata": {
        "id": "OB4l2ZhMeS1U"
      }
    },
    {
      "cell_type": "code",
      "source": [
        "# ML Model - 1 Implementation\n",
        "\n",
        "# Fit the Algorithm\n",
        "\n",
        "# Predict on the model"
      ],
      "metadata": {
        "id": "7ebyywQieS1U"
      },
      "execution_count": null,
      "outputs": []
    },
    {
      "cell_type": "markdown",
      "source": [
        "#### 1. Explain the ML Model used and it's performance using Evaluation metric Score Chart."
      ],
      "metadata": {
        "id": "ArJBuiUVfxKd"
      }
    },
    {
      "cell_type": "code",
      "source": [
        "# Visualizing evaluation Metric Score chart"
      ],
      "metadata": {
        "id": "rqD5ZohzfxKe"
      },
      "execution_count": null,
      "outputs": []
    },
    {
      "cell_type": "markdown",
      "source": [
        "#### 2. Cross- Validation & Hyperparameter Tuning"
      ],
      "metadata": {
        "id": "4qY1EAkEfxKe"
      }
    },
    {
      "cell_type": "code",
      "source": [
        "# ML Model - 1 Implementation with hyperparameter optimization techniques (i.e., GridSearch CV, RandomSearch CV, Bayesian Optimization etc.)\n",
        "\n",
        "# Fit the Algorithm\n",
        "\n",
        "# Predict on the model"
      ],
      "metadata": {
        "id": "Dy61ujd6fxKe"
      },
      "execution_count": null,
      "outputs": []
    },
    {
      "cell_type": "markdown",
      "source": [
        "##### Which hyperparameter optimization technique have you used and why?"
      ],
      "metadata": {
        "id": "PiV4Ypx8fxKe"
      }
    },
    {
      "cell_type": "markdown",
      "source": [
        "Answer Here."
      ],
      "metadata": {
        "id": "negyGRa7fxKf"
      }
    },
    {
      "cell_type": "markdown",
      "source": [
        "##### Have you seen any improvement? Note down the improvement with updates Evaluation metric Score Chart."
      ],
      "metadata": {
        "id": "TfvqoZmBfxKf"
      }
    },
    {
      "cell_type": "markdown",
      "source": [
        "Answer Here."
      ],
      "metadata": {
        "id": "OaLui8CcfxKf"
      }
    },
    {
      "cell_type": "markdown",
      "source": [
        "### ML Model - 2"
      ],
      "metadata": {
        "id": "dJ2tPlVmpsJ0"
      }
    },
    {
      "cell_type": "markdown",
      "source": [
        "#### 1. Explain the ML Model used and it's performance using Evaluation metric Score Chart."
      ],
      "metadata": {
        "id": "JWYfwnehpsJ1"
      }
    },
    {
      "cell_type": "code",
      "source": [
        "# Visualizing evaluation Metric Score chart"
      ],
      "metadata": {
        "id": "yEl-hgQWpsJ1"
      },
      "execution_count": null,
      "outputs": []
    },
    {
      "cell_type": "markdown",
      "source": [
        "#### 2. Cross- Validation & Hyperparameter Tuning"
      ],
      "metadata": {
        "id": "-jK_YjpMpsJ2"
      }
    },
    {
      "cell_type": "code",
      "source": [
        "# ML Model - 1 Implementation with hyperparameter optimization techniques (i.e., GridSearch CV, RandomSearch CV, Bayesian Optimization etc.)\n",
        "\n",
        "# Fit the Algorithm\n",
        "\n",
        "# Predict on the model"
      ],
      "metadata": {
        "id": "Dn0EOfS6psJ2"
      },
      "execution_count": null,
      "outputs": []
    },
    {
      "cell_type": "markdown",
      "source": [
        "##### Which hyperparameter optimization technique have you used and why?"
      ],
      "metadata": {
        "id": "HAih1iBOpsJ2"
      }
    },
    {
      "cell_type": "markdown",
      "source": [
        "Answer Here."
      ],
      "metadata": {
        "id": "9kBgjYcdpsJ2"
      }
    },
    {
      "cell_type": "markdown",
      "source": [
        "##### Have you seen any improvement? Note down the improvement with updates Evaluation metric Score Chart."
      ],
      "metadata": {
        "id": "zVGeBEFhpsJ2"
      }
    },
    {
      "cell_type": "markdown",
      "source": [
        "Answer Here."
      ],
      "metadata": {
        "id": "74yRdG6UpsJ3"
      }
    },
    {
      "cell_type": "markdown",
      "source": [
        "#### 3. Explain each evaluation metric's indication towards business and the business impact pf the ML model used."
      ],
      "metadata": {
        "id": "bmKjuQ-FpsJ3"
      }
    },
    {
      "cell_type": "markdown",
      "source": [
        "Answer Here."
      ],
      "metadata": {
        "id": "BDKtOrBQpsJ3"
      }
    },
    {
      "cell_type": "markdown",
      "source": [
        "### ML Model - 3"
      ],
      "metadata": {
        "id": "Fze-IPXLpx6K"
      }
    },
    {
      "cell_type": "code",
      "source": [
        "# ML Model - 3 Implementation\n",
        "\n",
        "# Fit the Algorithm\n",
        "\n",
        "# Predict on the model"
      ],
      "metadata": {
        "id": "FFrSXAtrpx6M"
      },
      "execution_count": null,
      "outputs": []
    },
    {
      "cell_type": "markdown",
      "source": [
        "#### 1. Explain the ML Model used and it's performance using Evaluation metric Score Chart."
      ],
      "metadata": {
        "id": "7AN1z2sKpx6M"
      }
    },
    {
      "cell_type": "code",
      "source": [
        "# Visualizing evaluation Metric Score chart"
      ],
      "metadata": {
        "id": "xIY4lxxGpx6M"
      },
      "execution_count": null,
      "outputs": []
    },
    {
      "cell_type": "markdown",
      "source": [
        "#### 2. Cross- Validation & Hyperparameter Tuning"
      ],
      "metadata": {
        "id": "9PIHJqyupx6M"
      }
    },
    {
      "cell_type": "code",
      "source": [
        "# ML Model - 3 Implementation with hyperparameter optimization techniques (i.e., GridSearch CV, RandomSearch CV, Bayesian Optimization etc.)\n",
        "\n",
        "# Fit the Algorithm\n",
        "\n",
        "# Predict on the model"
      ],
      "metadata": {
        "id": "eSVXuaSKpx6M"
      },
      "execution_count": null,
      "outputs": []
    },
    {
      "cell_type": "markdown",
      "source": [
        "##### Which hyperparameter optimization technique have you used and why?"
      ],
      "metadata": {
        "id": "_-qAgymDpx6N"
      }
    },
    {
      "cell_type": "markdown",
      "source": [
        "Answer Here."
      ],
      "metadata": {
        "id": "lQMffxkwpx6N"
      }
    },
    {
      "cell_type": "markdown",
      "source": [
        "##### Have you seen any improvement? Note down the improvement with updates Evaluation metric Score Chart."
      ],
      "metadata": {
        "id": "Z-hykwinpx6N"
      }
    },
    {
      "cell_type": "markdown",
      "source": [
        "Answer Here."
      ],
      "metadata": {
        "id": "MzVzZC6opx6N"
      }
    },
    {
      "cell_type": "markdown",
      "source": [
        "### 1. Which Evaluation metrics did you consider for a positive business impact and why?"
      ],
      "metadata": {
        "id": "h_CCil-SKHpo"
      }
    },
    {
      "cell_type": "markdown",
      "source": [
        "Answer Here."
      ],
      "metadata": {
        "id": "jHVz9hHDKFms"
      }
    },
    {
      "cell_type": "markdown",
      "source": [
        "### 2. Which ML model did you choose from the above created models as your final prediction model and why?"
      ],
      "metadata": {
        "id": "cBFFvTBNJzUa"
      }
    },
    {
      "cell_type": "markdown",
      "source": [
        "Answer Here."
      ],
      "metadata": {
        "id": "6ksF5Q1LKTVm"
      }
    },
    {
      "cell_type": "markdown",
      "source": [
        "### 3. Explain the model which you have used and the feature importance using any model explainability tool?"
      ],
      "metadata": {
        "id": "HvGl1hHyA_VK"
      }
    },
    {
      "cell_type": "markdown",
      "source": [
        "Answer Here."
      ],
      "metadata": {
        "id": "YnvVTiIxBL-C"
      }
    },
    {
      "cell_type": "markdown",
      "source": [
        "## ***8.*** ***Future Work (Optional)***"
      ],
      "metadata": {
        "id": "EyNgTHvd2WFk"
      }
    },
    {
      "cell_type": "markdown",
      "source": [
        "### 1. Save the best performing ml model in a pickle file or joblib file format for deployment process.\n"
      ],
      "metadata": {
        "id": "KH5McJBi2d8v"
      }
    },
    {
      "cell_type": "code",
      "source": [
        "# Save the File"
      ],
      "metadata": {
        "id": "bQIANRl32f4J"
      },
      "execution_count": null,
      "outputs": []
    },
    {
      "cell_type": "markdown",
      "source": [
        "### 2. Again Load the saved model file and try to predict unseen data for a sanity check.\n"
      ],
      "metadata": {
        "id": "iW_Lq9qf2h6X"
      }
    },
    {
      "cell_type": "code",
      "source": [
        "# Load the File and predict unseen data."
      ],
      "metadata": {
        "id": "oEXk9ydD2nVC"
      },
      "execution_count": null,
      "outputs": []
    },
    {
      "cell_type": "markdown",
      "source": [
        "### ***Congrats! Your model is successfully created and ready for deployment on a live server for a real user interaction !!!***"
      ],
      "metadata": {
        "id": "-Kee-DAl2viO"
      }
    },
    {
      "cell_type": "markdown",
      "source": [
        "# **Conclusion**"
      ],
      "metadata": {
        "id": "gCX9965dhzqZ"
      }
    },
    {
      "cell_type": "markdown",
      "source": [
        "Write the conclusion here."
      ],
      "metadata": {
        "id": "Fjb1IsQkh3yE"
      }
    },
    {
      "cell_type": "markdown",
      "source": [
        "### ***Hurrah! You have successfully completed your Machine Learning Capstone Project !!!***"
      ],
      "metadata": {
        "id": "gIfDvo9L0UH2"
      }
    }
  ]
}